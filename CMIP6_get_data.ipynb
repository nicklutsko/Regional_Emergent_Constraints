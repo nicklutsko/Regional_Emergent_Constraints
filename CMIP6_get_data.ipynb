{
 "cells": [
  {
   "cell_type": "markdown",
   "metadata": {},
   "source": [
    "# get CMIP6 data"
   ]
  },
  {
   "cell_type": "markdown",
   "metadata": {},
   "source": [
    "Notebook to download and process CMIP6 data"
   ]
  },
  {
   "cell_type": "markdown",
   "metadata": {},
   "source": [
    "## 1. Set-up"
   ]
  },
  {
   "cell_type": "markdown",
   "metadata": {},
   "source": [
    "Modified from the \"first way\" in Ryan Abernathey's \"CMIP6 in the Cloud Five Ways\", see:\n",
    "https://medium.com/pangeo/cmip6-in-the-cloud-five-ways-96b177abe396"
   ]
  },
  {
   "cell_type": "code",
   "execution_count": 1,
   "metadata": {},
   "outputs": [],
   "source": [
    "from matplotlib import pyplot as plt\n",
    "import numpy as np\n",
    "import pandas as pd\n",
    "import xarray as xr\n",
    "#from mpl_toolkits.basemap import Basemap\n",
    "\n",
    "%matplotlib inline\n",
    "%config InlineBackend.figure_format = 'retina' "
   ]
  },
  {
   "cell_type": "code",
   "execution_count": 2,
   "metadata": {},
   "outputs": [],
   "source": [
    "#!/usr/bin/env python\n",
    "from __future__ import print_function\n",
    "import requests\n",
    "import xml.etree.ElementTree as ET\n",
    "import numpy\n",
    "\n",
    "# Author: Unknown\n",
    "# I got the original version from a word document published by ESGF\n",
    "# https://docs.google.com/document/d/1pxz1Kd3JHfFp8vR2JCVBfApbsHmbUQQstifhGNdc6U0/edit?usp=sharing\n",
    "\n",
    "# API AT: https://github.com/ESGF/esgf.github.io/wiki/ESGF_Search_REST_API#results-pagination\n",
    "\n",
    "def esgf_search(server=\"https://esgf-node.llnl.gov/esg-search/search\",\n",
    "                files_type=\"OPENDAP\", local_node=True, project=\"CMIP6\",\n",
    "                verbose=False, format=\"application%2Fsolr%2Bjson\",\n",
    "                use_csrf=False, **search):\n",
    "    client = requests.session()\n",
    "    payload = search\n",
    "    payload[\"project\"] = project\n",
    "    payload[\"type\"]= \"File\"\n",
    "    if local_node:\n",
    "        payload[\"distrib\"] = \"false\"\n",
    "    if use_csrf:\n",
    "        client.get(server)\n",
    "        if 'csrftoken' in client.cookies:\n",
    "            # Django 1.6 and up\n",
    "            csrftoken = client.cookies['csrftoken']\n",
    "        else:\n",
    "            # older versions\n",
    "            csrftoken = client.cookies['csrf']\n",
    "        payload[\"csrfmiddlewaretoken\"] = csrftoken\n",
    "\n",
    "    payload[\"format\"] = format\n",
    "\n",
    "    offset = 0\n",
    "    numFound = 10000\n",
    "    all_files = []\n",
    "    files_type = files_type.upper()\n",
    "    while offset < numFound:\n",
    "        payload[\"offset\"] = offset\n",
    "        url_keys = [] \n",
    "        for k in payload:\n",
    "            url_keys += [\"{}={}\".format(k, payload[k])]\n",
    "\n",
    "        url = \"{}/?{}\".format(server, \"&\".join(url_keys))\n",
    "        print(url)\n",
    "        r = client.get(url)\n",
    "        r.raise_for_status()\n",
    "        resp = r.json()[\"response\"]\n",
    "        numFound = int(resp[\"numFound\"])\n",
    "        resp = resp[\"docs\"]\n",
    "        offset += len(resp)\n",
    "        for d in resp:\n",
    "            if verbose:\n",
    "                for k in d:\n",
    "                    print(\"{}: {}\".format(k,d[k]))\n",
    "            url = d[\"url\"]\n",
    "            for f in d[\"url\"]:\n",
    "                sp = f.split(\"|\")\n",
    "                if sp[-1] == files_type:\n",
    "                    all_files.append(sp[0].split(\".html\")[0])\n",
    "    return sorted(all_files)"
   ]
  },
  {
   "cell_type": "code",
   "execution_count": 3,
   "metadata": {},
   "outputs": [],
   "source": [
    "def sdat(c, F):\n",
    "        #My old fashioned way of saving data\n",
    "        np.savez(F, u=c)\n",
    "        return 0\n",
    "    \n",
    "import scipy.stats as ss\n",
    "def lin_regression(var1, var2):\n",
    "\t\"\"\"\n",
    "\tRegresses var1 onto var2\n",
    "\tReturns: slope, intercept, r_value, p_value, std_err\n",
    "\t\"\"\"\n",
    "\t#print \"Linear regression\"\n",
    "\treturn ss.linregress(var1, var2)\n"
   ]
  },
  {
   "cell_type": "code",
   "execution_count": 4,
   "metadata": {},
   "outputs": [],
   "source": [
    "#List of models for which data is available:\n",
    "model = [\"CanESM5\", \"CESM2\", \"CNRM-CM6-1\", \"MRI-ESM2-0\", \"CNRM-ESM2-1\", \"IPSL-CM6A-LR\",\n",
    "         \"UKESM1-0-LL\", \"CESM2-WACCM\", \"GFDL-CM4\", \"MIROC-ES2L\", \"HadGEM3-GC31-LL\", \"GISS-E2-1-H\", \n",
    "         \"GFDL-ESM4\", \"GISS-E2-1-G\", \"BCC-CSM2-MR\", \"BCC-ESM1\", \"INM-CM4-8\", \"NorESM2-LM\", \"MPI-ESM1-2-HR\",\n",
    "         \"MIROC6\", \"NorESM2-MM\", \"FGOALS-f3-L\"]\n",
    "m = len( model )\n",
    "\n",
    "lim1 = [-90, -60, -30, 30, 60]\n",
    "lim2 = [-60, -30, 30, 60, 90]"
   ]
  },
  {
   "cell_type": "markdown",
   "metadata": {},
   "source": [
    "## First do piControl"
   ]
  },
  {
   "cell_type": "code",
   "execution_count": 5,
   "metadata": {},
   "outputs": [],
   "source": [
    "#Once the list of files has been pulled up, download files[lev:lev2]\n",
    "lev = [5, 12, 0, 2, 0, 0, 8, 7, 5, 3, 0, 14, 5, 36, 0, 0, 5, 0, 100, 8, 0, 0]\n",
    "lev2 = [8, 24, 1, 3, 1, 1, 14, 14, 10, 6, 10, 20, 10, 46, 1, 1, 10, 50, 200, 13, 50, 1]"
   ]
  },
  {
   "cell_type": "code",
   "execution_count": null,
   "metadata": {
    "scrolled": true
   },
   "outputs": [],
   "source": [
    "#For checking availability and format of data\n",
    "ids = ['tas', 'rlut', 'rsut', 'rlutcs', 'rsutcs']\n",
    "for i in range(1):\n",
    "    result3 = esgf_search(activity_id='CMIP', table_id='Amon', source_id=model[d], \n",
    "                          variable_id=ids[i], experiment_id='piControl')\n",
    "\n",
    "    print(result3)\n",
    "    files_to_open = result3[lev[d]:lev2[d]]\n",
    "    ds = xr.open_mfdataset(files_to_open)\n"
   ]
  },
  {
   "cell_type": "code",
   "execution_count": 7,
   "metadata": {},
   "outputs": [
    {
     "name": "stdout",
     "output_type": "stream",
     "text": [
      "Doing:  NorESM2-MM\n",
      "https://esgf-node.llnl.gov/esg-search/search/?activity_id=CMIP&table_id=Amon&source_id=NorESM2-MM&variable_id=tas&experiment_id=piControl&project=CMIP6&type=File&distrib=false&format=application%2Fsolr%2Bjson&offset=0\n",
      "https://esgf-node.llnl.gov/esg-search/search/?activity_id=CMIP&table_id=Amon&source_id=NorESM2-MM&variable_id=tas&experiment_id=piControl&project=CMIP6&type=File&distrib=false&format=application%2Fsolr%2Bjson&offset=10\n",
      "https://esgf-node.llnl.gov/esg-search/search/?activity_id=CMIP&table_id=Amon&source_id=NorESM2-MM&variable_id=tas&experiment_id=piControl&project=CMIP6&type=File&distrib=false&format=application%2Fsolr%2Bjson&offset=20\n",
      "https://esgf-node.llnl.gov/esg-search/search/?activity_id=CMIP&table_id=Amon&source_id=NorESM2-MM&variable_id=tas&experiment_id=piControl&project=CMIP6&type=File&distrib=false&format=application%2Fsolr%2Bjson&offset=30\n",
      "https://esgf-node.llnl.gov/esg-search/search/?activity_id=CMIP&table_id=Amon&source_id=NorESM2-MM&variable_id=tas&experiment_id=piControl&project=CMIP6&type=File&distrib=false&format=application%2Fsolr%2Bjson&offset=40\n",
      "https://esgf-node.llnl.gov/esg-search/search/?activity_id=CMIP&table_id=Amon&source_id=NorESM2-MM&variable_id=rlut&experiment_id=piControl&project=CMIP6&type=File&distrib=false&format=application%2Fsolr%2Bjson&offset=0\n",
      "https://esgf-node.llnl.gov/esg-search/search/?activity_id=CMIP&table_id=Amon&source_id=NorESM2-MM&variable_id=rlut&experiment_id=piControl&project=CMIP6&type=File&distrib=false&format=application%2Fsolr%2Bjson&offset=10\n",
      "https://esgf-node.llnl.gov/esg-search/search/?activity_id=CMIP&table_id=Amon&source_id=NorESM2-MM&variable_id=rlut&experiment_id=piControl&project=CMIP6&type=File&distrib=false&format=application%2Fsolr%2Bjson&offset=20\n",
      "https://esgf-node.llnl.gov/esg-search/search/?activity_id=CMIP&table_id=Amon&source_id=NorESM2-MM&variable_id=rlut&experiment_id=piControl&project=CMIP6&type=File&distrib=false&format=application%2Fsolr%2Bjson&offset=30\n",
      "https://esgf-node.llnl.gov/esg-search/search/?activity_id=CMIP&table_id=Amon&source_id=NorESM2-MM&variable_id=rlut&experiment_id=piControl&project=CMIP6&type=File&distrib=false&format=application%2Fsolr%2Bjson&offset=40\n",
      "https://esgf-node.llnl.gov/esg-search/search/?activity_id=CMIP&table_id=Amon&source_id=NorESM2-MM&variable_id=rsut&experiment_id=piControl&project=CMIP6&type=File&distrib=false&format=application%2Fsolr%2Bjson&offset=0\n",
      "https://esgf-node.llnl.gov/esg-search/search/?activity_id=CMIP&table_id=Amon&source_id=NorESM2-MM&variable_id=rsut&experiment_id=piControl&project=CMIP6&type=File&distrib=false&format=application%2Fsolr%2Bjson&offset=10\n",
      "https://esgf-node.llnl.gov/esg-search/search/?activity_id=CMIP&table_id=Amon&source_id=NorESM2-MM&variable_id=rsut&experiment_id=piControl&project=CMIP6&type=File&distrib=false&format=application%2Fsolr%2Bjson&offset=20\n",
      "https://esgf-node.llnl.gov/esg-search/search/?activity_id=CMIP&table_id=Amon&source_id=NorESM2-MM&variable_id=rsut&experiment_id=piControl&project=CMIP6&type=File&distrib=false&format=application%2Fsolr%2Bjson&offset=30\n",
      "https://esgf-node.llnl.gov/esg-search/search/?activity_id=CMIP&table_id=Amon&source_id=NorESM2-MM&variable_id=rsut&experiment_id=piControl&project=CMIP6&type=File&distrib=false&format=application%2Fsolr%2Bjson&offset=40\n",
      "https://esgf-node.llnl.gov/esg-search/search/?activity_id=CMIP&table_id=Amon&source_id=NorESM2-MM&variable_id=rlutcs&experiment_id=piControl&project=CMIP6&type=File&distrib=false&format=application%2Fsolr%2Bjson&offset=0\n",
      "https://esgf-node.llnl.gov/esg-search/search/?activity_id=CMIP&table_id=Amon&source_id=NorESM2-MM&variable_id=rlutcs&experiment_id=piControl&project=CMIP6&type=File&distrib=false&format=application%2Fsolr%2Bjson&offset=10\n",
      "https://esgf-node.llnl.gov/esg-search/search/?activity_id=CMIP&table_id=Amon&source_id=NorESM2-MM&variable_id=rlutcs&experiment_id=piControl&project=CMIP6&type=File&distrib=false&format=application%2Fsolr%2Bjson&offset=20\n",
      "https://esgf-node.llnl.gov/esg-search/search/?activity_id=CMIP&table_id=Amon&source_id=NorESM2-MM&variable_id=rlutcs&experiment_id=piControl&project=CMIP6&type=File&distrib=false&format=application%2Fsolr%2Bjson&offset=30\n",
      "https://esgf-node.llnl.gov/esg-search/search/?activity_id=CMIP&table_id=Amon&source_id=NorESM2-MM&variable_id=rlutcs&experiment_id=piControl&project=CMIP6&type=File&distrib=false&format=application%2Fsolr%2Bjson&offset=40\n",
      "https://esgf-node.llnl.gov/esg-search/search/?activity_id=CMIP&table_id=Amon&source_id=NorESM2-MM&variable_id=rsutcs&experiment_id=piControl&project=CMIP6&type=File&distrib=false&format=application%2Fsolr%2Bjson&offset=0\n",
      "https://esgf-node.llnl.gov/esg-search/search/?activity_id=CMIP&table_id=Amon&source_id=NorESM2-MM&variable_id=rsutcs&experiment_id=piControl&project=CMIP6&type=File&distrib=false&format=application%2Fsolr%2Bjson&offset=10\n",
      "https://esgf-node.llnl.gov/esg-search/search/?activity_id=CMIP&table_id=Amon&source_id=NorESM2-MM&variable_id=rsutcs&experiment_id=piControl&project=CMIP6&type=File&distrib=false&format=application%2Fsolr%2Bjson&offset=20\n",
      "https://esgf-node.llnl.gov/esg-search/search/?activity_id=CMIP&table_id=Amon&source_id=NorESM2-MM&variable_id=rsutcs&experiment_id=piControl&project=CMIP6&type=File&distrib=false&format=application%2Fsolr%2Bjson&offset=30\n",
      "https://esgf-node.llnl.gov/esg-search/search/?activity_id=CMIP&table_id=Amon&source_id=NorESM2-MM&variable_id=rsutcs&experiment_id=piControl&project=CMIP6&type=File&distrib=false&format=application%2Fsolr%2Bjson&offset=40\n"
     ]
    },
    {
     "ename": "OSError",
     "evalue": "[Errno -68] NetCDF: I/O failure: b'http://esgf-data3.diasjp.net/thredds/dodsC/esg_dataroot/CMIP6/CMIP/NCC/NorESM2-MM/piControl/r1i1p1f1/Amon/tas/gn/v20191108/tas_Amon_NorESM2-MM_piControl_r1i1p1f1_gn_128001-128912.nc'",
     "output_type": "error",
     "traceback": [
      "\u001b[0;31m---------------------------------------------------------------------------\u001b[0m",
      "\u001b[0;31mKeyError\u001b[0m                                  Traceback (most recent call last)",
      "\u001b[0;32m/usr/local/Anaconda3-2020.07-Linux-x86_64/lib/python3.8/site-packages/xarray/backends/file_manager.py\u001b[0m in \u001b[0;36m_acquire_with_cache_info\u001b[0;34m(self, needs_lock)\u001b[0m\n\u001b[1;32m    198\u001b[0m             \u001b[0;32mtry\u001b[0m\u001b[0;34m:\u001b[0m\u001b[0;34m\u001b[0m\u001b[0;34m\u001b[0m\u001b[0m\n\u001b[0;32m--> 199\u001b[0;31m                 \u001b[0mfile\u001b[0m \u001b[0;34m=\u001b[0m \u001b[0mself\u001b[0m\u001b[0;34m.\u001b[0m\u001b[0m_cache\u001b[0m\u001b[0;34m[\u001b[0m\u001b[0mself\u001b[0m\u001b[0;34m.\u001b[0m\u001b[0m_key\u001b[0m\u001b[0;34m]\u001b[0m\u001b[0;34m\u001b[0m\u001b[0;34m\u001b[0m\u001b[0m\n\u001b[0m\u001b[1;32m    200\u001b[0m             \u001b[0;32mexcept\u001b[0m \u001b[0mKeyError\u001b[0m\u001b[0;34m:\u001b[0m\u001b[0;34m\u001b[0m\u001b[0;34m\u001b[0m\u001b[0m\n",
      "\u001b[0;32m/usr/local/Anaconda3-2020.07-Linux-x86_64/lib/python3.8/site-packages/xarray/backends/lru_cache.py\u001b[0m in \u001b[0;36m__getitem__\u001b[0;34m(self, key)\u001b[0m\n\u001b[1;32m     52\u001b[0m         \u001b[0;32mwith\u001b[0m \u001b[0mself\u001b[0m\u001b[0;34m.\u001b[0m\u001b[0m_lock\u001b[0m\u001b[0;34m:\u001b[0m\u001b[0;34m\u001b[0m\u001b[0;34m\u001b[0m\u001b[0m\n\u001b[0;32m---> 53\u001b[0;31m             \u001b[0mvalue\u001b[0m \u001b[0;34m=\u001b[0m \u001b[0mself\u001b[0m\u001b[0;34m.\u001b[0m\u001b[0m_cache\u001b[0m\u001b[0;34m[\u001b[0m\u001b[0mkey\u001b[0m\u001b[0;34m]\u001b[0m\u001b[0;34m\u001b[0m\u001b[0;34m\u001b[0m\u001b[0m\n\u001b[0m\u001b[1;32m     54\u001b[0m             \u001b[0mself\u001b[0m\u001b[0;34m.\u001b[0m\u001b[0m_cache\u001b[0m\u001b[0;34m.\u001b[0m\u001b[0mmove_to_end\u001b[0m\u001b[0;34m(\u001b[0m\u001b[0mkey\u001b[0m\u001b[0;34m)\u001b[0m\u001b[0;34m\u001b[0m\u001b[0;34m\u001b[0m\u001b[0m\n",
      "\u001b[0;31mKeyError\u001b[0m: [<class 'netCDF4._netCDF4.Dataset'>, ('http://esgf-data3.diasjp.net/thredds/dodsC/esg_dataroot/CMIP6/CMIP/NCC/NorESM2-MM/piControl/r1i1p1f1/Amon/tas/gn/v20191108/tas_Amon_NorESM2-MM_piControl_r1i1p1f1_gn_128001-128912.nc',), 'r', (('clobber', True), ('diskless', False), ('format', 'NETCDF4'), ('persist', False))]",
      "\nDuring handling of the above exception, another exception occurred:\n",
      "\u001b[0;31mOSError\u001b[0m                                   Traceback (most recent call last)",
      "\u001b[0;32m<ipython-input-7-cdf259d04b33>\u001b[0m in \u001b[0;36m<module>\u001b[0;34m\u001b[0m\n\u001b[1;32m     23\u001b[0m         \u001b[0mfiles_to_open5\u001b[0m \u001b[0;34m=\u001b[0m \u001b[0mresult5\u001b[0m\u001b[0;34m[\u001b[0m\u001b[0mlev\u001b[0m\u001b[0;34m[\u001b[0m\u001b[0md\u001b[0m\u001b[0;34m]\u001b[0m\u001b[0;34m:\u001b[0m\u001b[0mlev2\u001b[0m\u001b[0;34m[\u001b[0m\u001b[0md\u001b[0m\u001b[0;34m]\u001b[0m\u001b[0;34m]\u001b[0m\u001b[0;34m\u001b[0m\u001b[0;34m\u001b[0m\u001b[0m\n\u001b[1;32m     24\u001b[0m \u001b[0;34m\u001b[0m\u001b[0m\n\u001b[0;32m---> 25\u001b[0;31m         \u001b[0mds\u001b[0m \u001b[0;34m=\u001b[0m \u001b[0mxr\u001b[0m\u001b[0;34m.\u001b[0m\u001b[0mopen_mfdataset\u001b[0m\u001b[0;34m(\u001b[0m\u001b[0mfiles_to_open\u001b[0m\u001b[0;34m)\u001b[0m\u001b[0;34m\u001b[0m\u001b[0;34m\u001b[0m\u001b[0m\n\u001b[0m\u001b[1;32m     26\u001b[0m         \u001b[0mds2\u001b[0m \u001b[0;34m=\u001b[0m \u001b[0mxr\u001b[0m\u001b[0;34m.\u001b[0m\u001b[0mopen_mfdataset\u001b[0m\u001b[0;34m(\u001b[0m\u001b[0mfiles_to_open2\u001b[0m\u001b[0;34m)\u001b[0m\u001b[0;34m\u001b[0m\u001b[0;34m\u001b[0m\u001b[0m\n\u001b[1;32m     27\u001b[0m         \u001b[0mds3\u001b[0m \u001b[0;34m=\u001b[0m \u001b[0mxr\u001b[0m\u001b[0;34m.\u001b[0m\u001b[0mopen_mfdataset\u001b[0m\u001b[0;34m(\u001b[0m\u001b[0mfiles_to_open3\u001b[0m\u001b[0;34m)\u001b[0m\u001b[0;34m\u001b[0m\u001b[0;34m\u001b[0m\u001b[0m\n",
      "\u001b[0;32m/usr/local/Anaconda3-2020.07-Linux-x86_64/lib/python3.8/site-packages/xarray/backends/api.py\u001b[0m in \u001b[0;36mopen_mfdataset\u001b[0;34m(paths, chunks, concat_dim, compat, preprocess, engine, lock, data_vars, coords, combine, autoclose, parallel, join, attrs_file, **kwargs)\u001b[0m\n\u001b[1;32m    916\u001b[0m         \u001b[0mgetattr_\u001b[0m \u001b[0;34m=\u001b[0m \u001b[0mgetattr\u001b[0m\u001b[0;34m\u001b[0m\u001b[0;34m\u001b[0m\u001b[0m\n\u001b[1;32m    917\u001b[0m \u001b[0;34m\u001b[0m\u001b[0m\n\u001b[0;32m--> 918\u001b[0;31m     \u001b[0mdatasets\u001b[0m \u001b[0;34m=\u001b[0m \u001b[0;34m[\u001b[0m\u001b[0mopen_\u001b[0m\u001b[0;34m(\u001b[0m\u001b[0mp\u001b[0m\u001b[0;34m,\u001b[0m \u001b[0;34m**\u001b[0m\u001b[0mopen_kwargs\u001b[0m\u001b[0;34m)\u001b[0m \u001b[0;32mfor\u001b[0m \u001b[0mp\u001b[0m \u001b[0;32min\u001b[0m \u001b[0mpaths\u001b[0m\u001b[0;34m]\u001b[0m\u001b[0;34m\u001b[0m\u001b[0;34m\u001b[0m\u001b[0m\n\u001b[0m\u001b[1;32m    919\u001b[0m     \u001b[0mfile_objs\u001b[0m \u001b[0;34m=\u001b[0m \u001b[0;34m[\u001b[0m\u001b[0mgetattr_\u001b[0m\u001b[0;34m(\u001b[0m\u001b[0mds\u001b[0m\u001b[0;34m,\u001b[0m \u001b[0;34m\"_file_obj\"\u001b[0m\u001b[0;34m)\u001b[0m \u001b[0;32mfor\u001b[0m \u001b[0mds\u001b[0m \u001b[0;32min\u001b[0m \u001b[0mdatasets\u001b[0m\u001b[0;34m]\u001b[0m\u001b[0;34m\u001b[0m\u001b[0;34m\u001b[0m\u001b[0m\n\u001b[1;32m    920\u001b[0m     \u001b[0;32mif\u001b[0m \u001b[0mpreprocess\u001b[0m \u001b[0;32mis\u001b[0m \u001b[0;32mnot\u001b[0m \u001b[0;32mNone\u001b[0m\u001b[0;34m:\u001b[0m\u001b[0;34m\u001b[0m\u001b[0;34m\u001b[0m\u001b[0m\n",
      "\u001b[0;32m/usr/local/Anaconda3-2020.07-Linux-x86_64/lib/python3.8/site-packages/xarray/backends/api.py\u001b[0m in \u001b[0;36m<listcomp>\u001b[0;34m(.0)\u001b[0m\n\u001b[1;32m    916\u001b[0m         \u001b[0mgetattr_\u001b[0m \u001b[0;34m=\u001b[0m \u001b[0mgetattr\u001b[0m\u001b[0;34m\u001b[0m\u001b[0;34m\u001b[0m\u001b[0m\n\u001b[1;32m    917\u001b[0m \u001b[0;34m\u001b[0m\u001b[0m\n\u001b[0;32m--> 918\u001b[0;31m     \u001b[0mdatasets\u001b[0m \u001b[0;34m=\u001b[0m \u001b[0;34m[\u001b[0m\u001b[0mopen_\u001b[0m\u001b[0;34m(\u001b[0m\u001b[0mp\u001b[0m\u001b[0;34m,\u001b[0m \u001b[0;34m**\u001b[0m\u001b[0mopen_kwargs\u001b[0m\u001b[0;34m)\u001b[0m \u001b[0;32mfor\u001b[0m \u001b[0mp\u001b[0m \u001b[0;32min\u001b[0m \u001b[0mpaths\u001b[0m\u001b[0;34m]\u001b[0m\u001b[0;34m\u001b[0m\u001b[0;34m\u001b[0m\u001b[0m\n\u001b[0m\u001b[1;32m    919\u001b[0m     \u001b[0mfile_objs\u001b[0m \u001b[0;34m=\u001b[0m \u001b[0;34m[\u001b[0m\u001b[0mgetattr_\u001b[0m\u001b[0;34m(\u001b[0m\u001b[0mds\u001b[0m\u001b[0;34m,\u001b[0m \u001b[0;34m\"_file_obj\"\u001b[0m\u001b[0;34m)\u001b[0m \u001b[0;32mfor\u001b[0m \u001b[0mds\u001b[0m \u001b[0;32min\u001b[0m \u001b[0mdatasets\u001b[0m\u001b[0;34m]\u001b[0m\u001b[0;34m\u001b[0m\u001b[0;34m\u001b[0m\u001b[0m\n\u001b[1;32m    920\u001b[0m     \u001b[0;32mif\u001b[0m \u001b[0mpreprocess\u001b[0m \u001b[0;32mis\u001b[0m \u001b[0;32mnot\u001b[0m \u001b[0;32mNone\u001b[0m\u001b[0;34m:\u001b[0m\u001b[0;34m\u001b[0m\u001b[0;34m\u001b[0m\u001b[0m\n",
      "\u001b[0;32m/usr/local/Anaconda3-2020.07-Linux-x86_64/lib/python3.8/site-packages/xarray/backends/api.py\u001b[0m in \u001b[0;36mopen_dataset\u001b[0;34m(filename_or_obj, group, decode_cf, mask_and_scale, decode_times, autoclose, concat_characters, decode_coords, engine, chunks, lock, cache, drop_variables, backend_kwargs, use_cftime, decode_timedelta)\u001b[0m\n\u001b[1;32m    506\u001b[0m             \u001b[0mengine\u001b[0m \u001b[0;34m=\u001b[0m \u001b[0m_get_default_engine\u001b[0m\u001b[0;34m(\u001b[0m\u001b[0mfilename_or_obj\u001b[0m\u001b[0;34m,\u001b[0m \u001b[0mallow_remote\u001b[0m\u001b[0;34m=\u001b[0m\u001b[0;32mTrue\u001b[0m\u001b[0;34m)\u001b[0m\u001b[0;34m\u001b[0m\u001b[0;34m\u001b[0m\u001b[0m\n\u001b[1;32m    507\u001b[0m         \u001b[0;32mif\u001b[0m \u001b[0mengine\u001b[0m \u001b[0;34m==\u001b[0m \u001b[0;34m\"netcdf4\"\u001b[0m\u001b[0;34m:\u001b[0m\u001b[0;34m\u001b[0m\u001b[0;34m\u001b[0m\u001b[0m\n\u001b[0;32m--> 508\u001b[0;31m             store = backends.NetCDF4DataStore.open(\n\u001b[0m\u001b[1;32m    509\u001b[0m                 \u001b[0mfilename_or_obj\u001b[0m\u001b[0;34m,\u001b[0m \u001b[0mgroup\u001b[0m\u001b[0;34m=\u001b[0m\u001b[0mgroup\u001b[0m\u001b[0;34m,\u001b[0m \u001b[0mlock\u001b[0m\u001b[0;34m=\u001b[0m\u001b[0mlock\u001b[0m\u001b[0;34m,\u001b[0m \u001b[0;34m**\u001b[0m\u001b[0mbackend_kwargs\u001b[0m\u001b[0;34m\u001b[0m\u001b[0;34m\u001b[0m\u001b[0m\n\u001b[1;32m    510\u001b[0m             )\n",
      "\u001b[0;32m/usr/local/Anaconda3-2020.07-Linux-x86_64/lib/python3.8/site-packages/xarray/backends/netCDF4_.py\u001b[0m in \u001b[0;36mopen\u001b[0;34m(cls, filename, mode, format, group, clobber, diskless, persist, lock, lock_maker, autoclose)\u001b[0m\n\u001b[1;32m    356\u001b[0m             \u001b[0mnetCDF4\u001b[0m\u001b[0;34m.\u001b[0m\u001b[0mDataset\u001b[0m\u001b[0;34m,\u001b[0m \u001b[0mfilename\u001b[0m\u001b[0;34m,\u001b[0m \u001b[0mmode\u001b[0m\u001b[0;34m=\u001b[0m\u001b[0mmode\u001b[0m\u001b[0;34m,\u001b[0m \u001b[0mkwargs\u001b[0m\u001b[0;34m=\u001b[0m\u001b[0mkwargs\u001b[0m\u001b[0;34m\u001b[0m\u001b[0;34m\u001b[0m\u001b[0m\n\u001b[1;32m    357\u001b[0m         )\n\u001b[0;32m--> 358\u001b[0;31m         \u001b[0;32mreturn\u001b[0m \u001b[0mcls\u001b[0m\u001b[0;34m(\u001b[0m\u001b[0mmanager\u001b[0m\u001b[0;34m,\u001b[0m \u001b[0mgroup\u001b[0m\u001b[0;34m=\u001b[0m\u001b[0mgroup\u001b[0m\u001b[0;34m,\u001b[0m \u001b[0mmode\u001b[0m\u001b[0;34m=\u001b[0m\u001b[0mmode\u001b[0m\u001b[0;34m,\u001b[0m \u001b[0mlock\u001b[0m\u001b[0;34m=\u001b[0m\u001b[0mlock\u001b[0m\u001b[0;34m,\u001b[0m \u001b[0mautoclose\u001b[0m\u001b[0;34m=\u001b[0m\u001b[0mautoclose\u001b[0m\u001b[0;34m)\u001b[0m\u001b[0;34m\u001b[0m\u001b[0;34m\u001b[0m\u001b[0m\n\u001b[0m\u001b[1;32m    359\u001b[0m \u001b[0;34m\u001b[0m\u001b[0m\n\u001b[1;32m    360\u001b[0m     \u001b[0;32mdef\u001b[0m \u001b[0m_acquire\u001b[0m\u001b[0;34m(\u001b[0m\u001b[0mself\u001b[0m\u001b[0;34m,\u001b[0m \u001b[0mneeds_lock\u001b[0m\u001b[0;34m=\u001b[0m\u001b[0;32mTrue\u001b[0m\u001b[0;34m)\u001b[0m\u001b[0;34m:\u001b[0m\u001b[0;34m\u001b[0m\u001b[0;34m\u001b[0m\u001b[0m\n",
      "\u001b[0;32m/usr/local/Anaconda3-2020.07-Linux-x86_64/lib/python3.8/site-packages/xarray/backends/netCDF4_.py\u001b[0m in \u001b[0;36m__init__\u001b[0;34m(self, manager, group, mode, lock, autoclose)\u001b[0m\n\u001b[1;32m    312\u001b[0m         \u001b[0mself\u001b[0m\u001b[0;34m.\u001b[0m\u001b[0m_group\u001b[0m \u001b[0;34m=\u001b[0m \u001b[0mgroup\u001b[0m\u001b[0;34m\u001b[0m\u001b[0;34m\u001b[0m\u001b[0m\n\u001b[1;32m    313\u001b[0m         \u001b[0mself\u001b[0m\u001b[0;34m.\u001b[0m\u001b[0m_mode\u001b[0m \u001b[0;34m=\u001b[0m \u001b[0mmode\u001b[0m\u001b[0;34m\u001b[0m\u001b[0;34m\u001b[0m\u001b[0m\n\u001b[0;32m--> 314\u001b[0;31m         \u001b[0mself\u001b[0m\u001b[0;34m.\u001b[0m\u001b[0mformat\u001b[0m \u001b[0;34m=\u001b[0m \u001b[0mself\u001b[0m\u001b[0;34m.\u001b[0m\u001b[0mds\u001b[0m\u001b[0;34m.\u001b[0m\u001b[0mdata_model\u001b[0m\u001b[0;34m\u001b[0m\u001b[0;34m\u001b[0m\u001b[0m\n\u001b[0m\u001b[1;32m    315\u001b[0m         \u001b[0mself\u001b[0m\u001b[0;34m.\u001b[0m\u001b[0m_filename\u001b[0m \u001b[0;34m=\u001b[0m \u001b[0mself\u001b[0m\u001b[0;34m.\u001b[0m\u001b[0mds\u001b[0m\u001b[0;34m.\u001b[0m\u001b[0mfilepath\u001b[0m\u001b[0;34m(\u001b[0m\u001b[0;34m)\u001b[0m\u001b[0;34m\u001b[0m\u001b[0;34m\u001b[0m\u001b[0m\n\u001b[1;32m    316\u001b[0m         \u001b[0mself\u001b[0m\u001b[0;34m.\u001b[0m\u001b[0mis_remote\u001b[0m \u001b[0;34m=\u001b[0m \u001b[0mis_remote_uri\u001b[0m\u001b[0;34m(\u001b[0m\u001b[0mself\u001b[0m\u001b[0;34m.\u001b[0m\u001b[0m_filename\u001b[0m\u001b[0;34m)\u001b[0m\u001b[0;34m\u001b[0m\u001b[0;34m\u001b[0m\u001b[0m\n",
      "\u001b[0;32m/usr/local/Anaconda3-2020.07-Linux-x86_64/lib/python3.8/site-packages/xarray/backends/netCDF4_.py\u001b[0m in \u001b[0;36mds\u001b[0;34m(self)\u001b[0m\n\u001b[1;32m    365\u001b[0m     \u001b[0;34m@\u001b[0m\u001b[0mproperty\u001b[0m\u001b[0;34m\u001b[0m\u001b[0;34m\u001b[0m\u001b[0m\n\u001b[1;32m    366\u001b[0m     \u001b[0;32mdef\u001b[0m \u001b[0mds\u001b[0m\u001b[0;34m(\u001b[0m\u001b[0mself\u001b[0m\u001b[0;34m)\u001b[0m\u001b[0;34m:\u001b[0m\u001b[0;34m\u001b[0m\u001b[0;34m\u001b[0m\u001b[0m\n\u001b[0;32m--> 367\u001b[0;31m         \u001b[0;32mreturn\u001b[0m \u001b[0mself\u001b[0m\u001b[0;34m.\u001b[0m\u001b[0m_acquire\u001b[0m\u001b[0;34m(\u001b[0m\u001b[0;34m)\u001b[0m\u001b[0;34m\u001b[0m\u001b[0;34m\u001b[0m\u001b[0m\n\u001b[0m\u001b[1;32m    368\u001b[0m \u001b[0;34m\u001b[0m\u001b[0m\n\u001b[1;32m    369\u001b[0m     \u001b[0;32mdef\u001b[0m \u001b[0mopen_store_variable\u001b[0m\u001b[0;34m(\u001b[0m\u001b[0mself\u001b[0m\u001b[0;34m,\u001b[0m \u001b[0mname\u001b[0m\u001b[0;34m,\u001b[0m \u001b[0mvar\u001b[0m\u001b[0;34m)\u001b[0m\u001b[0;34m:\u001b[0m\u001b[0;34m\u001b[0m\u001b[0;34m\u001b[0m\u001b[0m\n",
      "\u001b[0;32m/usr/local/Anaconda3-2020.07-Linux-x86_64/lib/python3.8/site-packages/xarray/backends/netCDF4_.py\u001b[0m in \u001b[0;36m_acquire\u001b[0;34m(self, needs_lock)\u001b[0m\n\u001b[1;32m    359\u001b[0m \u001b[0;34m\u001b[0m\u001b[0m\n\u001b[1;32m    360\u001b[0m     \u001b[0;32mdef\u001b[0m \u001b[0m_acquire\u001b[0m\u001b[0;34m(\u001b[0m\u001b[0mself\u001b[0m\u001b[0;34m,\u001b[0m \u001b[0mneeds_lock\u001b[0m\u001b[0;34m=\u001b[0m\u001b[0;32mTrue\u001b[0m\u001b[0;34m)\u001b[0m\u001b[0;34m:\u001b[0m\u001b[0;34m\u001b[0m\u001b[0;34m\u001b[0m\u001b[0m\n\u001b[0;32m--> 361\u001b[0;31m         \u001b[0;32mwith\u001b[0m \u001b[0mself\u001b[0m\u001b[0;34m.\u001b[0m\u001b[0m_manager\u001b[0m\u001b[0;34m.\u001b[0m\u001b[0macquire_context\u001b[0m\u001b[0;34m(\u001b[0m\u001b[0mneeds_lock\u001b[0m\u001b[0;34m)\u001b[0m \u001b[0;32mas\u001b[0m \u001b[0mroot\u001b[0m\u001b[0;34m:\u001b[0m\u001b[0;34m\u001b[0m\u001b[0;34m\u001b[0m\u001b[0m\n\u001b[0m\u001b[1;32m    362\u001b[0m             \u001b[0mds\u001b[0m \u001b[0;34m=\u001b[0m \u001b[0m_nc4_require_group\u001b[0m\u001b[0;34m(\u001b[0m\u001b[0mroot\u001b[0m\u001b[0;34m,\u001b[0m \u001b[0mself\u001b[0m\u001b[0;34m.\u001b[0m\u001b[0m_group\u001b[0m\u001b[0;34m,\u001b[0m \u001b[0mself\u001b[0m\u001b[0;34m.\u001b[0m\u001b[0m_mode\u001b[0m\u001b[0;34m)\u001b[0m\u001b[0;34m\u001b[0m\u001b[0;34m\u001b[0m\u001b[0m\n\u001b[1;32m    363\u001b[0m         \u001b[0;32mreturn\u001b[0m \u001b[0mds\u001b[0m\u001b[0;34m\u001b[0m\u001b[0;34m\u001b[0m\u001b[0m\n",
      "\u001b[0;32m/usr/local/Anaconda3-2020.07-Linux-x86_64/lib/python3.8/contextlib.py\u001b[0m in \u001b[0;36m__enter__\u001b[0;34m(self)\u001b[0m\n\u001b[1;32m    111\u001b[0m         \u001b[0;32mdel\u001b[0m \u001b[0mself\u001b[0m\u001b[0;34m.\u001b[0m\u001b[0margs\u001b[0m\u001b[0;34m,\u001b[0m \u001b[0mself\u001b[0m\u001b[0;34m.\u001b[0m\u001b[0mkwds\u001b[0m\u001b[0;34m,\u001b[0m \u001b[0mself\u001b[0m\u001b[0;34m.\u001b[0m\u001b[0mfunc\u001b[0m\u001b[0;34m\u001b[0m\u001b[0;34m\u001b[0m\u001b[0m\n\u001b[1;32m    112\u001b[0m         \u001b[0;32mtry\u001b[0m\u001b[0;34m:\u001b[0m\u001b[0;34m\u001b[0m\u001b[0;34m\u001b[0m\u001b[0m\n\u001b[0;32m--> 113\u001b[0;31m             \u001b[0;32mreturn\u001b[0m \u001b[0mnext\u001b[0m\u001b[0;34m(\u001b[0m\u001b[0mself\u001b[0m\u001b[0;34m.\u001b[0m\u001b[0mgen\u001b[0m\u001b[0;34m)\u001b[0m\u001b[0;34m\u001b[0m\u001b[0;34m\u001b[0m\u001b[0m\n\u001b[0m\u001b[1;32m    114\u001b[0m         \u001b[0;32mexcept\u001b[0m \u001b[0mStopIteration\u001b[0m\u001b[0;34m:\u001b[0m\u001b[0;34m\u001b[0m\u001b[0;34m\u001b[0m\u001b[0m\n\u001b[1;32m    115\u001b[0m             \u001b[0;32mraise\u001b[0m \u001b[0mRuntimeError\u001b[0m\u001b[0;34m(\u001b[0m\u001b[0;34m\"generator didn't yield\"\u001b[0m\u001b[0;34m)\u001b[0m \u001b[0;32mfrom\u001b[0m \u001b[0;32mNone\u001b[0m\u001b[0;34m\u001b[0m\u001b[0;34m\u001b[0m\u001b[0m\n",
      "\u001b[0;32m/usr/local/Anaconda3-2020.07-Linux-x86_64/lib/python3.8/site-packages/xarray/backends/file_manager.py\u001b[0m in \u001b[0;36macquire_context\u001b[0;34m(self, needs_lock)\u001b[0m\n\u001b[1;32m    185\u001b[0m     \u001b[0;32mdef\u001b[0m \u001b[0macquire_context\u001b[0m\u001b[0;34m(\u001b[0m\u001b[0mself\u001b[0m\u001b[0;34m,\u001b[0m \u001b[0mneeds_lock\u001b[0m\u001b[0;34m=\u001b[0m\u001b[0;32mTrue\u001b[0m\u001b[0;34m)\u001b[0m\u001b[0;34m:\u001b[0m\u001b[0;34m\u001b[0m\u001b[0;34m\u001b[0m\u001b[0m\n\u001b[1;32m    186\u001b[0m         \u001b[0;34m\"\"\"Context manager for acquiring a file.\"\"\"\u001b[0m\u001b[0;34m\u001b[0m\u001b[0;34m\u001b[0m\u001b[0m\n\u001b[0;32m--> 187\u001b[0;31m         \u001b[0mfile\u001b[0m\u001b[0;34m,\u001b[0m \u001b[0mcached\u001b[0m \u001b[0;34m=\u001b[0m \u001b[0mself\u001b[0m\u001b[0;34m.\u001b[0m\u001b[0m_acquire_with_cache_info\u001b[0m\u001b[0;34m(\u001b[0m\u001b[0mneeds_lock\u001b[0m\u001b[0;34m)\u001b[0m\u001b[0;34m\u001b[0m\u001b[0;34m\u001b[0m\u001b[0m\n\u001b[0m\u001b[1;32m    188\u001b[0m         \u001b[0;32mtry\u001b[0m\u001b[0;34m:\u001b[0m\u001b[0;34m\u001b[0m\u001b[0;34m\u001b[0m\u001b[0m\n\u001b[1;32m    189\u001b[0m             \u001b[0;32myield\u001b[0m \u001b[0mfile\u001b[0m\u001b[0;34m\u001b[0m\u001b[0;34m\u001b[0m\u001b[0m\n",
      "\u001b[0;32m/usr/local/Anaconda3-2020.07-Linux-x86_64/lib/python3.8/site-packages/xarray/backends/file_manager.py\u001b[0m in \u001b[0;36m_acquire_with_cache_info\u001b[0;34m(self, needs_lock)\u001b[0m\n\u001b[1;32m    203\u001b[0m                     \u001b[0mkwargs\u001b[0m \u001b[0;34m=\u001b[0m \u001b[0mkwargs\u001b[0m\u001b[0;34m.\u001b[0m\u001b[0mcopy\u001b[0m\u001b[0;34m(\u001b[0m\u001b[0;34m)\u001b[0m\u001b[0;34m\u001b[0m\u001b[0;34m\u001b[0m\u001b[0m\n\u001b[1;32m    204\u001b[0m                     \u001b[0mkwargs\u001b[0m\u001b[0;34m[\u001b[0m\u001b[0;34m\"mode\"\u001b[0m\u001b[0;34m]\u001b[0m \u001b[0;34m=\u001b[0m \u001b[0mself\u001b[0m\u001b[0;34m.\u001b[0m\u001b[0m_mode\u001b[0m\u001b[0;34m\u001b[0m\u001b[0;34m\u001b[0m\u001b[0m\n\u001b[0;32m--> 205\u001b[0;31m                 \u001b[0mfile\u001b[0m \u001b[0;34m=\u001b[0m \u001b[0mself\u001b[0m\u001b[0;34m.\u001b[0m\u001b[0m_opener\u001b[0m\u001b[0;34m(\u001b[0m\u001b[0;34m*\u001b[0m\u001b[0mself\u001b[0m\u001b[0;34m.\u001b[0m\u001b[0m_args\u001b[0m\u001b[0;34m,\u001b[0m \u001b[0;34m**\u001b[0m\u001b[0mkwargs\u001b[0m\u001b[0;34m)\u001b[0m\u001b[0;34m\u001b[0m\u001b[0;34m\u001b[0m\u001b[0m\n\u001b[0m\u001b[1;32m    206\u001b[0m                 \u001b[0;32mif\u001b[0m \u001b[0mself\u001b[0m\u001b[0;34m.\u001b[0m\u001b[0m_mode\u001b[0m \u001b[0;34m==\u001b[0m \u001b[0;34m\"w\"\u001b[0m\u001b[0;34m:\u001b[0m\u001b[0;34m\u001b[0m\u001b[0;34m\u001b[0m\u001b[0m\n\u001b[1;32m    207\u001b[0m                     \u001b[0;31m# ensure file doesn't get overriden when opened again\u001b[0m\u001b[0;34m\u001b[0m\u001b[0;34m\u001b[0m\u001b[0;34m\u001b[0m\u001b[0m\n",
      "\u001b[0;32mnetCDF4/_netCDF4.pyx\u001b[0m in \u001b[0;36mnetCDF4._netCDF4.Dataset.__init__\u001b[0;34m()\u001b[0m\n",
      "\u001b[0;32mnetCDF4/_netCDF4.pyx\u001b[0m in \u001b[0;36mnetCDF4._netCDF4._ensure_nc_success\u001b[0;34m()\u001b[0m\n",
      "\u001b[0;31mOSError\u001b[0m: [Errno -68] NetCDF: I/O failure: b'http://esgf-data3.diasjp.net/thredds/dodsC/esg_dataroot/CMIP6/CMIP/NCC/NorESM2-MM/piControl/r1i1p1f1/Amon/tas/gn/v20191108/tas_Amon_NorESM2-MM_piControl_r1i1p1f1_gn_128001-128912.nc'"
     ]
    }
   ],
   "source": [
    "#Download data\n",
    "for d in range( m ):\n",
    "    print(\"Doing: \", model[d])\n",
    "\n",
    "    result1 = esgf_search(activity_id='CMIP', table_id='Amon', source_id=model[d], \n",
    "                              variable_id='tas', experiment_id='piControl')\n",
    "    \n",
    "    result2 = esgf_search(activity_id='CMIP', table_id='Amon', source_id=model[d], \n",
    "                              variable_id='rlut', experiment_id='piControl')\n",
    "    result3 = esgf_search(activity_id='CMIP', table_id='Amon', source_id=model[d], \n",
    "                              variable_id='rsut', experiment_id='piControl')\n",
    "    result4 = esgf_search(activity_id='CMIP', table_id='Amon', source_id=model[d], \n",
    "                              variable_id='rlutcs', experiment_id='piControl')\n",
    "    result5 = esgf_search(activity_id='CMIP', table_id='Amon', source_id=model[d], \n",
    "                              variable_id='rsutcs', experiment_id='piControl')\n",
    "    \n",
    "    if lev2[d] - lev[d] > 1:\n",
    "        files_to_open = result1[lev[d]:lev2[d]]\n",
    "\n",
    "        files_to_open2 = result2[lev[d]:lev2[d]]\n",
    "        files_to_open3 = result3[lev[d]:lev2[d]]\n",
    "        files_to_open4 = result4[lev[d]:lev2[d]]\n",
    "        files_to_open5 = result5[lev[d]:lev2[d]]\n",
    "\n",
    "        ds = xr.open_mfdataset(files_to_open)\n",
    "        ds2 = xr.open_mfdataset(files_to_open2)\n",
    "        ds3 = xr.open_mfdataset(files_to_open3)\n",
    "        ds4 = xr.open_mfdataset(files_to_open4)\n",
    "        ds5 = xr.open_mfdataset(files_to_open5)\n",
    "    else:\n",
    "        files_to_open = result1[lev[d]]\n",
    "        files_to_open2 = result2[lev[d]]\n",
    "        files_to_open3 = result3[lev[d]]\n",
    "        files_to_open4 = result4[lev[d]]\n",
    "        files_to_open5 = result5[lev[d]]\n",
    "\n",
    "        ds = xr.open_dataset(files_to_open, chunks={'time': '100MB'}, decode_times=False)\n",
    "        ds2 = xr.open_dataset(files_to_open2, chunks={'time': '100MB'}, decode_times=False)\n",
    "        ds3 = xr.open_dataset(files_to_open3, chunks={'time': '100MB'}, decode_times=False)\n",
    "        ds4 = xr.open_dataset(files_to_open4, chunks={'time': '100MB'}, decode_times=False)\n",
    "        ds5 = xr.open_dataset(files_to_open5, chunks={'time': '100MB'}, decode_times=False)\n",
    "        \n",
    "        \n",
    "    #Save regional data\n",
    "    d1, d2, d3 = np.shape( ds.tas)\n",
    "\n",
    "    tas = ds.tas.mean(dim='lon')\n",
    "    rlut = ds2.rlut.mean(dim='lon')\n",
    "    rsut = ds3.rsut.mean(dim='lon')\n",
    "    rlutcs = ds4.rlutcs.mean(dim='lon')\n",
    "    rsutcs = ds5.rsutcs.mean(dim='lon')\n",
    "\n",
    "    for i in range( 5 ):\n",
    "        ztas = tas.sel(lat=slice(lim1[i], lim2[i]))\n",
    "        zrlut = rlut.sel(lat=slice(lim1[i], lim2[i]))\n",
    "        zrsut = rsut.sel(lat=slice(lim1[i], lim2[i]))\n",
    "        zrlutcs = rlutcs.sel(lat=slice(lim1[i], lim2[i]))\n",
    "        zrsutcs = rsutcs.sel(lat=slice(lim1[i], lim2[i]))\n",
    "\n",
    "        sdat( ztas, \"data/\" + model[d] + \"_PI_tas_\" + str(lim1[i]) + \"_\" + str(lim2[i]) + \".dat\")\n",
    "        sdat( zrlut, \"data/\" + model[d] + \"_PI_rlut_\" + str(lim1[i]) + \"_\" + str(lim2[i]) + \".dat\")\n",
    "        sdat( zrsut, \"data/\" + model[d] + \"_PI_rsut_\" + str(lim1[i]) + \"_\" + str(lim2[i]) + \".dat\")\n",
    "        sdat( zrlutcs, \"data/\" + model[d] + \"_PI_rlutcs_\" + str(lim1[i]) + \"_\" + str(lim2[i]) + \".dat\")\n",
    "        sdat( zrsutcs, \"data/\" + model[d] + \"_PI_rsutcs_\" + str(lim1[i]) + \"_\" + str(lim2[i]) + \".dat\")\n"
   ]
  },
  {
   "cell_type": "markdown",
   "metadata": {},
   "source": [
    "## Historical"
   ]
  },
  {
   "cell_type": "code",
   "execution_count": 3,
   "metadata": {},
   "outputs": [],
   "source": [
    "#Once the list of files has been pulled up, download files[lev:lev2]\n",
    "hlev = [40, 40, 29, 6, 0, 0, 2, 0, 3, 0, 0, 80, 0, 80, 0, 0, 3, 34, 33 * 10, 2, 17, 0]\n",
    "hlev2 = [41, 44, 30, 7, 1, 1, 4, 1, 5, 1, 2, 84, 2, 84, 1, 1, 6, 51, 33 * 11, 4, 34, 1]\n"
   ]
  },
  {
   "cell_type": "code",
   "execution_count": 63,
   "metadata": {},
   "outputs": [
    {
     "name": "stdout",
     "output_type": "stream",
     "text": [
      "https://esgf-node.llnl.gov/esg-search/search/?activity_id=CMIP&table_id=Amon&source_id=FGOALS-f3-L&variable_id=tas&experiment_id=historical&project=CMIP6&type=File&distrib=false&format=application%2Fsolr%2Bjson&offset=0\n",
      "['http://esg.lasg.ac.cn/thredds/dodsC/esg_dataroot/CMIP6/CMIP/CAS/FGOALS-f3-L/historical/r1i1p1f1/Amon/tas/gr/v20190927/tas_Amon_FGOALS-f3-L_historical_r1i1p1f1_gr_185001-201412.nc', 'http://esg.lasg.ac.cn/thredds/dodsC/esg_dataroot/CMIP6/CMIP/CAS/FGOALS-f3-L/historical/r2i1p1f1/Amon/tas/gr/v20190927/tas_Amon_FGOALS-f3-L_historical_r2i1p1f1_gr_185001-201412.nc', 'http://esg.lasg.ac.cn/thredds/dodsC/esg_dataroot/CMIP6/CMIP/CAS/FGOALS-f3-L/historical/r3i1p1f1/Amon/tas/gr/v20190927/tas_Amon_FGOALS-f3-L_historical_r3i1p1f1_gr_185001-201412.nc', 'http://esgf-data1.llnl.gov/thredds/dodsC/css03_data/CMIP6/CMIP/CAS/FGOALS-f3-L/historical/r1i1p1f1/Amon/tas/gr/v20190927/tas_Amon_FGOALS-f3-L_historical_r1i1p1f1_gr_185001-201412.nc', 'http://esgf-data1.llnl.gov/thredds/dodsC/css03_data/CMIP6/CMIP/CAS/FGOALS-f3-L/historical/r2i1p1f1/Amon/tas/gr/v20190927/tas_Amon_FGOALS-f3-L_historical_r2i1p1f1_gr_185001-201412.nc', 'http://esgf-data1.llnl.gov/thredds/dodsC/css03_data/CMIP6/CMIP/CAS/FGOALS-f3-L/historical/r3i1p1f1/Amon/tas/gr/v20190927/tas_Amon_FGOALS-f3-L_historical_r3i1p1f1_gr_185001-201412.nc', 'http://esgf-data3.diasjp.net/thredds/dodsC/esg_dataroot/CMIP6/CMIP/CAS/FGOALS-f3-L/historical/r1i1p1f1/Amon/tas/gr/v20190927/tas_Amon_FGOALS-f3-L_historical_r1i1p1f1_gr_185001-201412.nc', 'http://esgf-data3.diasjp.net/thredds/dodsC/esg_dataroot/CMIP6/CMIP/CAS/FGOALS-f3-L/historical/r2i1p1f1/Amon/tas/gr/v20190927/tas_Amon_FGOALS-f3-L_historical_r2i1p1f1_gr_185001-201412.nc', 'http://esgf-data3.diasjp.net/thredds/dodsC/esg_dataroot/CMIP6/CMIP/CAS/FGOALS-f3-L/historical/r3i1p1f1/Amon/tas/gr/v20190927/tas_Amon_FGOALS-f3-L_historical_r3i1p1f1_gr_185001-201412.nc']\n",
      "https://esgf-node.llnl.gov/esg-search/search/?activity_id=CMIP&table_id=Amon&source_id=FGOALS-f3-L&variable_id=rlut&experiment_id=historical&project=CMIP6&type=File&distrib=false&format=application%2Fsolr%2Bjson&offset=0\n",
      "['http://esg.lasg.ac.cn/thredds/dodsC/esg_dataroot/CMIP6/CMIP/CAS/FGOALS-f3-L/historical/r1i1p1f1/Amon/rlut/gr/v20190927/rlut_Amon_FGOALS-f3-L_historical_r1i1p1f1_gr_185001-201412.nc', 'http://esg.lasg.ac.cn/thredds/dodsC/esg_dataroot/CMIP6/CMIP/CAS/FGOALS-f3-L/historical/r2i1p1f1/Amon/rlut/gr/v20190927/rlut_Amon_FGOALS-f3-L_historical_r2i1p1f1_gr_185001-201412.nc', 'http://esg.lasg.ac.cn/thredds/dodsC/esg_dataroot/CMIP6/CMIP/CAS/FGOALS-f3-L/historical/r3i1p1f1/Amon/rlut/gr/v20190927/rlut_Amon_FGOALS-f3-L_historical_r3i1p1f1_gr_185001-201412.nc', 'http://esgf-data1.llnl.gov/thredds/dodsC/css03_data/CMIP6/CMIP/CAS/FGOALS-f3-L/historical/r1i1p1f1/Amon/rlut/gr/v20190927/rlut_Amon_FGOALS-f3-L_historical_r1i1p1f1_gr_185001-201412.nc', 'http://esgf-data1.llnl.gov/thredds/dodsC/css03_data/CMIP6/CMIP/CAS/FGOALS-f3-L/historical/r2i1p1f1/Amon/rlut/gr/v20190927/rlut_Amon_FGOALS-f3-L_historical_r2i1p1f1_gr_185001-201412.nc', 'http://esgf-data1.llnl.gov/thredds/dodsC/css03_data/CMIP6/CMIP/CAS/FGOALS-f3-L/historical/r3i1p1f1/Amon/rlut/gr/v20190927/rlut_Amon_FGOALS-f3-L_historical_r3i1p1f1_gr_185001-201412.nc', 'http://esgf-data3.diasjp.net/thredds/dodsC/esg_dataroot/CMIP6/CMIP/CAS/FGOALS-f3-L/historical/r1i1p1f1/Amon/rlut/gr/v20190927/rlut_Amon_FGOALS-f3-L_historical_r1i1p1f1_gr_185001-201412.nc', 'http://esgf-data3.diasjp.net/thredds/dodsC/esg_dataroot/CMIP6/CMIP/CAS/FGOALS-f3-L/historical/r2i1p1f1/Amon/rlut/gr/v20190927/rlut_Amon_FGOALS-f3-L_historical_r2i1p1f1_gr_185001-201412.nc', 'http://esgf-data3.diasjp.net/thredds/dodsC/esg_dataroot/CMIP6/CMIP/CAS/FGOALS-f3-L/historical/r3i1p1f1/Amon/rlut/gr/v20190927/rlut_Amon_FGOALS-f3-L_historical_r3i1p1f1_gr_185001-201412.nc']\n",
      "https://esgf-node.llnl.gov/esg-search/search/?activity_id=CMIP&table_id=Amon&source_id=FGOALS-f3-L&variable_id=rsut&experiment_id=historical&project=CMIP6&type=File&distrib=false&format=application%2Fsolr%2Bjson&offset=0\n",
      "['http://esg.lasg.ac.cn/thredds/dodsC/esg_dataroot/CMIP6/CMIP/CAS/FGOALS-f3-L/historical/r1i1p1f1/Amon/rsut/gr/v20190927/rsut_Amon_FGOALS-f3-L_historical_r1i1p1f1_gr_185001-201412.nc', 'http://esg.lasg.ac.cn/thredds/dodsC/esg_dataroot/CMIP6/CMIP/CAS/FGOALS-f3-L/historical/r2i1p1f1/Amon/rsut/gr/v20190927/rsut_Amon_FGOALS-f3-L_historical_r2i1p1f1_gr_185001-201412.nc', 'http://esg.lasg.ac.cn/thredds/dodsC/esg_dataroot/CMIP6/CMIP/CAS/FGOALS-f3-L/historical/r3i1p1f1/Amon/rsut/gr/v20190927/rsut_Amon_FGOALS-f3-L_historical_r3i1p1f1_gr_185001-201412.nc', 'http://esgf-data1.llnl.gov/thredds/dodsC/css03_data/CMIP6/CMIP/CAS/FGOALS-f3-L/historical/r1i1p1f1/Amon/rsut/gr/v20190927/rsut_Amon_FGOALS-f3-L_historical_r1i1p1f1_gr_185001-201412.nc', 'http://esgf-data1.llnl.gov/thredds/dodsC/css03_data/CMIP6/CMIP/CAS/FGOALS-f3-L/historical/r2i1p1f1/Amon/rsut/gr/v20190927/rsut_Amon_FGOALS-f3-L_historical_r2i1p1f1_gr_185001-201412.nc', 'http://esgf-data1.llnl.gov/thredds/dodsC/css03_data/CMIP6/CMIP/CAS/FGOALS-f3-L/historical/r3i1p1f1/Amon/rsut/gr/v20190927/rsut_Amon_FGOALS-f3-L_historical_r3i1p1f1_gr_185001-201412.nc', 'http://esgf-data3.diasjp.net/thredds/dodsC/esg_dataroot/CMIP6/CMIP/CAS/FGOALS-f3-L/historical/r1i1p1f1/Amon/rsut/gr/v20190927/rsut_Amon_FGOALS-f3-L_historical_r1i1p1f1_gr_185001-201412.nc', 'http://esgf-data3.diasjp.net/thredds/dodsC/esg_dataroot/CMIP6/CMIP/CAS/FGOALS-f3-L/historical/r2i1p1f1/Amon/rsut/gr/v20190927/rsut_Amon_FGOALS-f3-L_historical_r2i1p1f1_gr_185001-201412.nc', 'http://esgf-data3.diasjp.net/thredds/dodsC/esg_dataroot/CMIP6/CMIP/CAS/FGOALS-f3-L/historical/r3i1p1f1/Amon/rsut/gr/v20190927/rsut_Amon_FGOALS-f3-L_historical_r3i1p1f1_gr_185001-201412.nc']\n",
      "https://esgf-node.llnl.gov/esg-search/search/?activity_id=CMIP&table_id=Amon&source_id=FGOALS-f3-L&variable_id=rlutcs&experiment_id=historical&project=CMIP6&type=File&distrib=false&format=application%2Fsolr%2Bjson&offset=0\n",
      "['http://esg.lasg.ac.cn/thredds/dodsC/esg_dataroot/CMIP6/CMIP/CAS/FGOALS-f3-L/historical/r1i1p1f1/Amon/rlutcs/gr/v20190927/rlutcs_Amon_FGOALS-f3-L_historical_r1i1p1f1_gr_185001-201412.nc', 'http://esg.lasg.ac.cn/thredds/dodsC/esg_dataroot/CMIP6/CMIP/CAS/FGOALS-f3-L/historical/r2i1p1f1/Amon/rlutcs/gr/v20190927/rlutcs_Amon_FGOALS-f3-L_historical_r2i1p1f1_gr_185001-201412.nc', 'http://esg.lasg.ac.cn/thredds/dodsC/esg_dataroot/CMIP6/CMIP/CAS/FGOALS-f3-L/historical/r3i1p1f1/Amon/rlutcs/gr/v20190927/rlutcs_Amon_FGOALS-f3-L_historical_r3i1p1f1_gr_185001-201412.nc', 'http://esgf-data1.llnl.gov/thredds/dodsC/css03_data/CMIP6/CMIP/CAS/FGOALS-f3-L/historical/r1i1p1f1/Amon/rlutcs/gr/v20190927/rlutcs_Amon_FGOALS-f3-L_historical_r1i1p1f1_gr_185001-201412.nc', 'http://esgf-data1.llnl.gov/thredds/dodsC/css03_data/CMIP6/CMIP/CAS/FGOALS-f3-L/historical/r2i1p1f1/Amon/rlutcs/gr/v20190927/rlutcs_Amon_FGOALS-f3-L_historical_r2i1p1f1_gr_185001-201412.nc', 'http://esgf-data1.llnl.gov/thredds/dodsC/css03_data/CMIP6/CMIP/CAS/FGOALS-f3-L/historical/r3i1p1f1/Amon/rlutcs/gr/v20190927/rlutcs_Amon_FGOALS-f3-L_historical_r3i1p1f1_gr_185001-201412.nc', 'http://esgf-data3.diasjp.net/thredds/dodsC/esg_dataroot/CMIP6/CMIP/CAS/FGOALS-f3-L/historical/r1i1p1f1/Amon/rlutcs/gr/v20190927/rlutcs_Amon_FGOALS-f3-L_historical_r1i1p1f1_gr_185001-201412.nc', 'http://esgf-data3.diasjp.net/thredds/dodsC/esg_dataroot/CMIP6/CMIP/CAS/FGOALS-f3-L/historical/r2i1p1f1/Amon/rlutcs/gr/v20190927/rlutcs_Amon_FGOALS-f3-L_historical_r2i1p1f1_gr_185001-201412.nc', 'http://esgf-data3.diasjp.net/thredds/dodsC/esg_dataroot/CMIP6/CMIP/CAS/FGOALS-f3-L/historical/r3i1p1f1/Amon/rlutcs/gr/v20190927/rlutcs_Amon_FGOALS-f3-L_historical_r3i1p1f1_gr_185001-201412.nc']\n",
      "https://esgf-node.llnl.gov/esg-search/search/?activity_id=CMIP&table_id=Amon&source_id=FGOALS-f3-L&variable_id=rsutcs&experiment_id=historical&project=CMIP6&type=File&distrib=false&format=application%2Fsolr%2Bjson&offset=0\n",
      "['http://esg.lasg.ac.cn/thredds/dodsC/esg_dataroot/CMIP6/CMIP/CAS/FGOALS-f3-L/historical/r1i1p1f1/Amon/rsutcs/gr/v20190927/rsutcs_Amon_FGOALS-f3-L_historical_r1i1p1f1_gr_185001-201412.nc', 'http://esg.lasg.ac.cn/thredds/dodsC/esg_dataroot/CMIP6/CMIP/CAS/FGOALS-f3-L/historical/r2i1p1f1/Amon/rsutcs/gr/v20190927/rsutcs_Amon_FGOALS-f3-L_historical_r2i1p1f1_gr_185001-201412.nc', 'http://esg.lasg.ac.cn/thredds/dodsC/esg_dataroot/CMIP6/CMIP/CAS/FGOALS-f3-L/historical/r3i1p1f1/Amon/rsutcs/gr/v20190927/rsutcs_Amon_FGOALS-f3-L_historical_r3i1p1f1_gr_185001-201412.nc', 'http://esgf-data1.llnl.gov/thredds/dodsC/css03_data/CMIP6/CMIP/CAS/FGOALS-f3-L/historical/r1i1p1f1/Amon/rsutcs/gr/v20190927/rsutcs_Amon_FGOALS-f3-L_historical_r1i1p1f1_gr_185001-201412.nc', 'http://esgf-data1.llnl.gov/thredds/dodsC/css03_data/CMIP6/CMIP/CAS/FGOALS-f3-L/historical/r2i1p1f1/Amon/rsutcs/gr/v20190927/rsutcs_Amon_FGOALS-f3-L_historical_r2i1p1f1_gr_185001-201412.nc', 'http://esgf-data1.llnl.gov/thredds/dodsC/css03_data/CMIP6/CMIP/CAS/FGOALS-f3-L/historical/r3i1p1f1/Amon/rsutcs/gr/v20190927/rsutcs_Amon_FGOALS-f3-L_historical_r3i1p1f1_gr_185001-201412.nc', 'http://esgf-data3.diasjp.net/thredds/dodsC/esg_dataroot/CMIP6/CMIP/CAS/FGOALS-f3-L/historical/r1i1p1f1/Amon/rsutcs/gr/v20190927/rsutcs_Amon_FGOALS-f3-L_historical_r1i1p1f1_gr_185001-201412.nc', 'http://esgf-data3.diasjp.net/thredds/dodsC/esg_dataroot/CMIP6/CMIP/CAS/FGOALS-f3-L/historical/r2i1p1f1/Amon/rsutcs/gr/v20190927/rsutcs_Amon_FGOALS-f3-L_historical_r2i1p1f1_gr_185001-201412.nc', 'http://esgf-data3.diasjp.net/thredds/dodsC/esg_dataroot/CMIP6/CMIP/CAS/FGOALS-f3-L/historical/r3i1p1f1/Amon/rsutcs/gr/v20190927/rsutcs_Amon_FGOALS-f3-L_historical_r3i1p1f1_gr_185001-201412.nc']\n"
     ]
    }
   ],
   "source": [
    "#For checking availability and format of data\n",
    "d = 21\n",
    "ids = ['tas', 'rlut', 'rsut', 'rlutcs', 'rsutcs']\n",
    "for i in range(5):\n",
    "    result3 = esgf_search(activity_id='CMIP', table_id='Amon', source_id=model[d], \n",
    "                          variable_id=ids[i], experiment_id='historical')\n",
    "    print(result3)\n",
    "    files_to_open = result3[hlev[d]:hlev2[d]]\n",
    "    ds = xr.open_mfdataset(files_to_open)\n"
   ]
  },
  {
   "cell_type": "code",
   "execution_count": 64,
   "metadata": {},
   "outputs": [
    {
     "name": "stdout",
     "output_type": "stream",
     "text": [
      "Doing:  FGOALS-f3-L\n",
      "https://esgf-node.llnl.gov/esg-search/search/?activity_id=CMIP&table_id=Amon&source_id=FGOALS-f3-L&variable_id=tas&experiment_id=historical&project=CMIP6&type=File&distrib=false&format=application%2Fsolr%2Bjson&offset=0\n",
      "https://esgf-node.llnl.gov/esg-search/search/?activity_id=CMIP&table_id=Amon&source_id=FGOALS-f3-L&variable_id=rlut&experiment_id=historical&project=CMIP6&type=File&distrib=false&format=application%2Fsolr%2Bjson&offset=0\n",
      "https://esgf-node.llnl.gov/esg-search/search/?activity_id=CMIP&table_id=Amon&source_id=FGOALS-f3-L&variable_id=rsut&experiment_id=historical&project=CMIP6&type=File&distrib=false&format=application%2Fsolr%2Bjson&offset=0\n",
      "https://esgf-node.llnl.gov/esg-search/search/?activity_id=CMIP&table_id=Amon&source_id=FGOALS-f3-L&variable_id=rlutcs&experiment_id=historical&project=CMIP6&type=File&distrib=false&format=application%2Fsolr%2Bjson&offset=0\n",
      "https://esgf-node.llnl.gov/esg-search/search/?activity_id=CMIP&table_id=Amon&source_id=FGOALS-f3-L&variable_id=rsutcs&experiment_id=historical&project=CMIP6&type=File&distrib=false&format=application%2Fsolr%2Bjson&offset=0\n"
     ]
    }
   ],
   "source": [
    "#Download data\n",
    "for d in range( m ):\n",
    "    print(\"Doing: \", model[d])\n",
    "\n",
    "    result1 = esgf_search(activity_id='CMIP', table_id='Amon', source_id=model[d], \n",
    "                              variable_id='tas', experiment_id='historical')\n",
    "    result2 = esgf_search(activity_id='CMIP', table_id='Amon', source_id=model[d], \n",
    "                              variable_id='rlut', experiment_id='historical')\n",
    "    result3 = esgf_search(activity_id='CMIP', table_id='Amon', source_id=model[d], \n",
    "                              variable_id='rsut', experiment_id='historical')\n",
    "    result4 = esgf_search(activity_id='CMIP', table_id='Amon', source_id=model[d], \n",
    "                              variable_id='rlutcs', experiment_id='historical')\n",
    "    result5 = esgf_search(activity_id='CMIP', table_id='Amon', source_id=model[d], \n",
    "                              variable_id='rsutcs', experiment_id='historical')\n",
    "        \n",
    "    files_to_open = result1[hlev[d]:hlev2[d]]\n",
    "    files_to_open2 = result2[hlev[d]:hlev2[d]]\n",
    "    files_to_open3 = result3[hlev[d]:hlev2[d]]\n",
    "    files_to_open4 = result4[hlev[d]:hlev2[d]]\n",
    "    files_to_open5 = result5[hlev[d]:hlev2[d]]\n",
    "\n",
    "    ds = xr.open_mfdataset(files_to_open)\n",
    "    ds2 = xr.open_mfdataset(files_to_open2)\n",
    "    ds3 = xr.open_mfdataset(files_to_open3)\n",
    "    ds4 = xr.open_mfdataset(files_to_open4)\n",
    "    ds5 = xr.open_mfdataset(files_to_open5)\n",
    "\n",
    "    d1, d2, d3 = np.shape( ds.tas)\n",
    "\n",
    "    tas = ds.tas.mean(dim='lon')\n",
    "    rlut = ds2.rlut.mean(dim='lon')\n",
    "    rsut = ds3.rsut.mean(dim='lon')\n",
    "    rlutcs = ds4.rlutcs.mean(dim='lon')\n",
    "    rsutcs = ds5.rsutcs.mean(dim='lon')\n",
    "\n",
    "    for i in range( 5 ):\n",
    "        ztas = tas.sel(lat=slice(lim1[i], lim2[i]))\n",
    "        zrlut = rlut.sel(lat=slice(lim1[i], lim2[i]))\n",
    "        zrsut = rsut.sel(lat=slice(lim1[i], lim2[i]))\n",
    "        zrlutcs = rlutcs.sel(lat=slice(lim1[i], lim2[i]))\n",
    "        zrsutcs = rsutcs.sel(lat=slice(lim1[i], lim2[i]))\n",
    "\n",
    "        sdat( ztas, \"data/\" + model[d] + \"_historical_tas_\" + str(lim1[i]) + \"_\" + str(lim2[i]) + \".dat\")\n",
    "        sdat( zrlut, \"data/\" + model[d] + \"_historical_rlut_\" + str(lim1[i]) + \"_\" + str(lim2[i]) + \".dat\")\n",
    "        sdat( zrsut, \"data/\" + model[d] + \"_historical_rsut_\" + str(lim1[i]) + \"_\" + str(lim2[i]) + \".dat\")\n",
    "        sdat( zrlutcs, \"data/\" + model[d] + \"_historical_rlutcs_\" + str(lim1[i]) + \"_\" + str(lim2[i]) + \".dat\")\n",
    "        sdat( zrsutcs, \"data/\" + model[d] + \"_historical_rsutcs_\" + str(lim1[i]) + \"_\" + str(lim2[i]) + \".dat\")\n"
   ]
  },
  {
   "cell_type": "markdown",
   "metadata": {},
   "source": [
    "## Abrupt 4xCO2"
   ]
  },
  {
   "cell_type": "code",
   "execution_count": 65,
   "metadata": {},
   "outputs": [],
   "source": [
    "#Once the list of files has been pulled up, download files[lev:lev2]\n",
    "alev = [2, 2, 6, 0, 0, 3, 0, 4, 3, 0, 2, 3, 0, 6, 0, 0, 2, 50, 33, 0, 15, 0]\n",
    "alev2 = [3, 3, 7, 1, 1, 4, 2, 7, 6, 1, 4, 6, 2, 9, 1, 1, 4, 65, 66, 2, 30, 1 ]\n",
    "alev3 = [4, 2, 6, 0, 0, 11, 0, 4, 3, 0, 2, 3, 0, 6, 0, 0, 2, 50, 33, 0, 15, 0]\n",
    "alev4 = [5, 3, 7, 1, 1, 12, 2, 7, 6, 1, 4, 6, 2, 9, 1, 1, 4, 65, 66, 2, 30, 1]\n",
    "alev5 = [4, 2, 6, 0, 0, 3, 0, 4, 3, 0, 2, 3, 0, 6, 0, 0, 2, 50, 33, 0, 15, 0]\n",
    "alev6 = [5, 3, 7, 1, 1, 4, 2, 7, 6, 1, 4, 6, 2, 9, 1, 1, 4, 65, 66, 2, 30, 1]"
   ]
  },
  {
   "cell_type": "code",
   "execution_count": 28,
   "metadata": {},
   "outputs": [
    {
     "name": "stdout",
     "output_type": "stream",
     "text": [
      "https://esgf-node.llnl.gov/esg-search/search/?activity_id=CMIP&table_id=Amon&source_id=NorESM2-MM&variable_id=tas&experiment_id=abrupt-4xCO2&project=CMIP6&type=File&distrib=false&format=application%2Fsolr%2Bjson&offset=0\n",
      "https://esgf-node.llnl.gov/esg-search/search/?activity_id=CMIP&table_id=Amon&source_id=NorESM2-MM&variable_id=tas&experiment_id=abrupt-4xCO2&project=CMIP6&type=File&distrib=false&format=application%2Fsolr%2Bjson&offset=10\n",
      "https://esgf-node.llnl.gov/esg-search/search/?activity_id=CMIP&table_id=Amon&source_id=NorESM2-MM&variable_id=tas&experiment_id=abrupt-4xCO2&project=CMIP6&type=File&distrib=false&format=application%2Fsolr%2Bjson&offset=20\n",
      "['http://esgf-data1.llnl.gov/thredds/dodsC/css03_data/CMIP6/CMIP/NCC/NorESM2-MM/abrupt-4xCO2/r1i1p1f1/Amon/tas/gn/v20191108/tas_Amon_NorESM2-MM_abrupt-4xCO2_r1i1p1f1_gn_000101-001012.nc', 'http://esgf-data1.llnl.gov/thredds/dodsC/css03_data/CMIP6/CMIP/NCC/NorESM2-MM/abrupt-4xCO2/r1i1p1f1/Amon/tas/gn/v20191108/tas_Amon_NorESM2-MM_abrupt-4xCO2_r1i1p1f1_gn_001101-002012.nc', 'http://esgf-data1.llnl.gov/thredds/dodsC/css03_data/CMIP6/CMIP/NCC/NorESM2-MM/abrupt-4xCO2/r1i1p1f1/Amon/tas/gn/v20191108/tas_Amon_NorESM2-MM_abrupt-4xCO2_r1i1p1f1_gn_002101-003012.nc', 'http://esgf-data1.llnl.gov/thredds/dodsC/css03_data/CMIP6/CMIP/NCC/NorESM2-MM/abrupt-4xCO2/r1i1p1f1/Amon/tas/gn/v20191108/tas_Amon_NorESM2-MM_abrupt-4xCO2_r1i1p1f1_gn_003101-004012.nc', 'http://esgf-data1.llnl.gov/thredds/dodsC/css03_data/CMIP6/CMIP/NCC/NorESM2-MM/abrupt-4xCO2/r1i1p1f1/Amon/tas/gn/v20191108/tas_Amon_NorESM2-MM_abrupt-4xCO2_r1i1p1f1_gn_004101-005012.nc', 'http://esgf-data1.llnl.gov/thredds/dodsC/css03_data/CMIP6/CMIP/NCC/NorESM2-MM/abrupt-4xCO2/r1i1p1f1/Amon/tas/gn/v20191108/tas_Amon_NorESM2-MM_abrupt-4xCO2_r1i1p1f1_gn_005101-006012.nc', 'http://esgf-data1.llnl.gov/thredds/dodsC/css03_data/CMIP6/CMIP/NCC/NorESM2-MM/abrupt-4xCO2/r1i1p1f1/Amon/tas/gn/v20191108/tas_Amon_NorESM2-MM_abrupt-4xCO2_r1i1p1f1_gn_006101-007012.nc', 'http://esgf-data1.llnl.gov/thredds/dodsC/css03_data/CMIP6/CMIP/NCC/NorESM2-MM/abrupt-4xCO2/r1i1p1f1/Amon/tas/gn/v20191108/tas_Amon_NorESM2-MM_abrupt-4xCO2_r1i1p1f1_gn_007101-008012.nc', 'http://esgf-data1.llnl.gov/thredds/dodsC/css03_data/CMIP6/CMIP/NCC/NorESM2-MM/abrupt-4xCO2/r1i1p1f1/Amon/tas/gn/v20191108/tas_Amon_NorESM2-MM_abrupt-4xCO2_r1i1p1f1_gn_008101-009012.nc', 'http://esgf-data1.llnl.gov/thredds/dodsC/css03_data/CMIP6/CMIP/NCC/NorESM2-MM/abrupt-4xCO2/r1i1p1f1/Amon/tas/gn/v20191108/tas_Amon_NorESM2-MM_abrupt-4xCO2_r1i1p1f1_gn_009101-010012.nc', 'http://esgf-data1.llnl.gov/thredds/dodsC/css03_data/CMIP6/CMIP/NCC/NorESM2-MM/abrupt-4xCO2/r1i1p1f1/Amon/tas/gn/v20191108/tas_Amon_NorESM2-MM_abrupt-4xCO2_r1i1p1f1_gn_010101-011012.nc', 'http://esgf-data1.llnl.gov/thredds/dodsC/css03_data/CMIP6/CMIP/NCC/NorESM2-MM/abrupt-4xCO2/r1i1p1f1/Amon/tas/gn/v20191108/tas_Amon_NorESM2-MM_abrupt-4xCO2_r1i1p1f1_gn_011101-012012.nc', 'http://esgf-data1.llnl.gov/thredds/dodsC/css03_data/CMIP6/CMIP/NCC/NorESM2-MM/abrupt-4xCO2/r1i1p1f1/Amon/tas/gn/v20191108/tas_Amon_NorESM2-MM_abrupt-4xCO2_r1i1p1f1_gn_012101-013012.nc', 'http://esgf-data1.llnl.gov/thredds/dodsC/css03_data/CMIP6/CMIP/NCC/NorESM2-MM/abrupt-4xCO2/r1i1p1f1/Amon/tas/gn/v20191108/tas_Amon_NorESM2-MM_abrupt-4xCO2_r1i1p1f1_gn_013101-014012.nc', 'http://esgf-data1.llnl.gov/thredds/dodsC/css03_data/CMIP6/CMIP/NCC/NorESM2-MM/abrupt-4xCO2/r1i1p1f1/Amon/tas/gn/v20191108/tas_Amon_NorESM2-MM_abrupt-4xCO2_r1i1p1f1_gn_014101-015012.nc']\n",
      "https://esgf-node.llnl.gov/esg-search/search/?activity_id=CMIP&table_id=Amon&source_id=NorESM2-MM&variable_id=rlut&experiment_id=abrupt-4xCO2&project=CMIP6&type=File&distrib=false&format=application%2Fsolr%2Bjson&offset=0\n",
      "https://esgf-node.llnl.gov/esg-search/search/?activity_id=CMIP&table_id=Amon&source_id=NorESM2-MM&variable_id=rlut&experiment_id=abrupt-4xCO2&project=CMIP6&type=File&distrib=false&format=application%2Fsolr%2Bjson&offset=10\n",
      "https://esgf-node.llnl.gov/esg-search/search/?activity_id=CMIP&table_id=Amon&source_id=NorESM2-MM&variable_id=rlut&experiment_id=abrupt-4xCO2&project=CMIP6&type=File&distrib=false&format=application%2Fsolr%2Bjson&offset=20\n",
      "['http://esgf-data1.llnl.gov/thredds/dodsC/css03_data/CMIP6/CMIP/NCC/NorESM2-MM/abrupt-4xCO2/r1i1p1f1/Amon/rlut/gn/v20191108/rlut_Amon_NorESM2-MM_abrupt-4xCO2_r1i1p1f1_gn_000101-001012.nc', 'http://esgf-data1.llnl.gov/thredds/dodsC/css03_data/CMIP6/CMIP/NCC/NorESM2-MM/abrupt-4xCO2/r1i1p1f1/Amon/rlut/gn/v20191108/rlut_Amon_NorESM2-MM_abrupt-4xCO2_r1i1p1f1_gn_001101-002012.nc', 'http://esgf-data1.llnl.gov/thredds/dodsC/css03_data/CMIP6/CMIP/NCC/NorESM2-MM/abrupt-4xCO2/r1i1p1f1/Amon/rlut/gn/v20191108/rlut_Amon_NorESM2-MM_abrupt-4xCO2_r1i1p1f1_gn_002101-003012.nc', 'http://esgf-data1.llnl.gov/thredds/dodsC/css03_data/CMIP6/CMIP/NCC/NorESM2-MM/abrupt-4xCO2/r1i1p1f1/Amon/rlut/gn/v20191108/rlut_Amon_NorESM2-MM_abrupt-4xCO2_r1i1p1f1_gn_003101-004012.nc', 'http://esgf-data1.llnl.gov/thredds/dodsC/css03_data/CMIP6/CMIP/NCC/NorESM2-MM/abrupt-4xCO2/r1i1p1f1/Amon/rlut/gn/v20191108/rlut_Amon_NorESM2-MM_abrupt-4xCO2_r1i1p1f1_gn_004101-005012.nc', 'http://esgf-data1.llnl.gov/thredds/dodsC/css03_data/CMIP6/CMIP/NCC/NorESM2-MM/abrupt-4xCO2/r1i1p1f1/Amon/rlut/gn/v20191108/rlut_Amon_NorESM2-MM_abrupt-4xCO2_r1i1p1f1_gn_005101-006012.nc', 'http://esgf-data1.llnl.gov/thredds/dodsC/css03_data/CMIP6/CMIP/NCC/NorESM2-MM/abrupt-4xCO2/r1i1p1f1/Amon/rlut/gn/v20191108/rlut_Amon_NorESM2-MM_abrupt-4xCO2_r1i1p1f1_gn_006101-007012.nc', 'http://esgf-data1.llnl.gov/thredds/dodsC/css03_data/CMIP6/CMIP/NCC/NorESM2-MM/abrupt-4xCO2/r1i1p1f1/Amon/rlut/gn/v20191108/rlut_Amon_NorESM2-MM_abrupt-4xCO2_r1i1p1f1_gn_007101-008012.nc', 'http://esgf-data1.llnl.gov/thredds/dodsC/css03_data/CMIP6/CMIP/NCC/NorESM2-MM/abrupt-4xCO2/r1i1p1f1/Amon/rlut/gn/v20191108/rlut_Amon_NorESM2-MM_abrupt-4xCO2_r1i1p1f1_gn_008101-009012.nc', 'http://esgf-data1.llnl.gov/thredds/dodsC/css03_data/CMIP6/CMIP/NCC/NorESM2-MM/abrupt-4xCO2/r1i1p1f1/Amon/rlut/gn/v20191108/rlut_Amon_NorESM2-MM_abrupt-4xCO2_r1i1p1f1_gn_009101-010012.nc', 'http://esgf-data1.llnl.gov/thredds/dodsC/css03_data/CMIP6/CMIP/NCC/NorESM2-MM/abrupt-4xCO2/r1i1p1f1/Amon/rlut/gn/v20191108/rlut_Amon_NorESM2-MM_abrupt-4xCO2_r1i1p1f1_gn_010101-011012.nc', 'http://esgf-data1.llnl.gov/thredds/dodsC/css03_data/CMIP6/CMIP/NCC/NorESM2-MM/abrupt-4xCO2/r1i1p1f1/Amon/rlut/gn/v20191108/rlut_Amon_NorESM2-MM_abrupt-4xCO2_r1i1p1f1_gn_011101-012012.nc', 'http://esgf-data1.llnl.gov/thredds/dodsC/css03_data/CMIP6/CMIP/NCC/NorESM2-MM/abrupt-4xCO2/r1i1p1f1/Amon/rlut/gn/v20191108/rlut_Amon_NorESM2-MM_abrupt-4xCO2_r1i1p1f1_gn_012101-013012.nc', 'http://esgf-data1.llnl.gov/thredds/dodsC/css03_data/CMIP6/CMIP/NCC/NorESM2-MM/abrupt-4xCO2/r1i1p1f1/Amon/rlut/gn/v20191108/rlut_Amon_NorESM2-MM_abrupt-4xCO2_r1i1p1f1_gn_013101-014012.nc', 'http://esgf-data1.llnl.gov/thredds/dodsC/css03_data/CMIP6/CMIP/NCC/NorESM2-MM/abrupt-4xCO2/r1i1p1f1/Amon/rlut/gn/v20191108/rlut_Amon_NorESM2-MM_abrupt-4xCO2_r1i1p1f1_gn_014101-015012.nc']\n",
      "https://esgf-node.llnl.gov/esg-search/search/?activity_id=CMIP&table_id=Amon&source_id=NorESM2-MM&variable_id=rsut&experiment_id=abrupt-4xCO2&project=CMIP6&type=File&distrib=false&format=application%2Fsolr%2Bjson&offset=0\n",
      "https://esgf-node.llnl.gov/esg-search/search/?activity_id=CMIP&table_id=Amon&source_id=NorESM2-MM&variable_id=rsut&experiment_id=abrupt-4xCO2&project=CMIP6&type=File&distrib=false&format=application%2Fsolr%2Bjson&offset=10\n",
      "https://esgf-node.llnl.gov/esg-search/search/?activity_id=CMIP&table_id=Amon&source_id=NorESM2-MM&variable_id=rsut&experiment_id=abrupt-4xCO2&project=CMIP6&type=File&distrib=false&format=application%2Fsolr%2Bjson&offset=20\n",
      "['http://esgf-data1.llnl.gov/thredds/dodsC/css03_data/CMIP6/CMIP/NCC/NorESM2-MM/abrupt-4xCO2/r1i1p1f1/Amon/rsut/gn/v20191108/rsut_Amon_NorESM2-MM_abrupt-4xCO2_r1i1p1f1_gn_000101-001012.nc', 'http://esgf-data1.llnl.gov/thredds/dodsC/css03_data/CMIP6/CMIP/NCC/NorESM2-MM/abrupt-4xCO2/r1i1p1f1/Amon/rsut/gn/v20191108/rsut_Amon_NorESM2-MM_abrupt-4xCO2_r1i1p1f1_gn_001101-002012.nc', 'http://esgf-data1.llnl.gov/thredds/dodsC/css03_data/CMIP6/CMIP/NCC/NorESM2-MM/abrupt-4xCO2/r1i1p1f1/Amon/rsut/gn/v20191108/rsut_Amon_NorESM2-MM_abrupt-4xCO2_r1i1p1f1_gn_002101-003012.nc', 'http://esgf-data1.llnl.gov/thredds/dodsC/css03_data/CMIP6/CMIP/NCC/NorESM2-MM/abrupt-4xCO2/r1i1p1f1/Amon/rsut/gn/v20191108/rsut_Amon_NorESM2-MM_abrupt-4xCO2_r1i1p1f1_gn_003101-004012.nc', 'http://esgf-data1.llnl.gov/thredds/dodsC/css03_data/CMIP6/CMIP/NCC/NorESM2-MM/abrupt-4xCO2/r1i1p1f1/Amon/rsut/gn/v20191108/rsut_Amon_NorESM2-MM_abrupt-4xCO2_r1i1p1f1_gn_004101-005012.nc', 'http://esgf-data1.llnl.gov/thredds/dodsC/css03_data/CMIP6/CMIP/NCC/NorESM2-MM/abrupt-4xCO2/r1i1p1f1/Amon/rsut/gn/v20191108/rsut_Amon_NorESM2-MM_abrupt-4xCO2_r1i1p1f1_gn_005101-006012.nc', 'http://esgf-data1.llnl.gov/thredds/dodsC/css03_data/CMIP6/CMIP/NCC/NorESM2-MM/abrupt-4xCO2/r1i1p1f1/Amon/rsut/gn/v20191108/rsut_Amon_NorESM2-MM_abrupt-4xCO2_r1i1p1f1_gn_006101-007012.nc', 'http://esgf-data1.llnl.gov/thredds/dodsC/css03_data/CMIP6/CMIP/NCC/NorESM2-MM/abrupt-4xCO2/r1i1p1f1/Amon/rsut/gn/v20191108/rsut_Amon_NorESM2-MM_abrupt-4xCO2_r1i1p1f1_gn_007101-008012.nc', 'http://esgf-data1.llnl.gov/thredds/dodsC/css03_data/CMIP6/CMIP/NCC/NorESM2-MM/abrupt-4xCO2/r1i1p1f1/Amon/rsut/gn/v20191108/rsut_Amon_NorESM2-MM_abrupt-4xCO2_r1i1p1f1_gn_008101-009012.nc', 'http://esgf-data1.llnl.gov/thredds/dodsC/css03_data/CMIP6/CMIP/NCC/NorESM2-MM/abrupt-4xCO2/r1i1p1f1/Amon/rsut/gn/v20191108/rsut_Amon_NorESM2-MM_abrupt-4xCO2_r1i1p1f1_gn_009101-010012.nc', 'http://esgf-data1.llnl.gov/thredds/dodsC/css03_data/CMIP6/CMIP/NCC/NorESM2-MM/abrupt-4xCO2/r1i1p1f1/Amon/rsut/gn/v20191108/rsut_Amon_NorESM2-MM_abrupt-4xCO2_r1i1p1f1_gn_010101-011012.nc', 'http://esgf-data1.llnl.gov/thredds/dodsC/css03_data/CMIP6/CMIP/NCC/NorESM2-MM/abrupt-4xCO2/r1i1p1f1/Amon/rsut/gn/v20191108/rsut_Amon_NorESM2-MM_abrupt-4xCO2_r1i1p1f1_gn_011101-012012.nc', 'http://esgf-data1.llnl.gov/thredds/dodsC/css03_data/CMIP6/CMIP/NCC/NorESM2-MM/abrupt-4xCO2/r1i1p1f1/Amon/rsut/gn/v20191108/rsut_Amon_NorESM2-MM_abrupt-4xCO2_r1i1p1f1_gn_012101-013012.nc', 'http://esgf-data1.llnl.gov/thredds/dodsC/css03_data/CMIP6/CMIP/NCC/NorESM2-MM/abrupt-4xCO2/r1i1p1f1/Amon/rsut/gn/v20191108/rsut_Amon_NorESM2-MM_abrupt-4xCO2_r1i1p1f1_gn_013101-014012.nc', 'http://esgf-data1.llnl.gov/thredds/dodsC/css03_data/CMIP6/CMIP/NCC/NorESM2-MM/abrupt-4xCO2/r1i1p1f1/Amon/rsut/gn/v20191108/rsut_Amon_NorESM2-MM_abrupt-4xCO2_r1i1p1f1_gn_014101-015012.nc']\n"
     ]
    },
    {
     "ename": "OSError",
     "evalue": "[Errno -68] NetCDF: I/O failure: b'http://esgf-data1.llnl.gov/thredds/dodsC/css03_data/CMIP6/CMIP/NCC/NorESM2-MM/abrupt-4xCO2/r1i1p1f1/Amon/rsut/gn/v20191108/rsut_Amon_NorESM2-MM_abrupt-4xCO2_r1i1p1f1_gn_009101-010012.nc'",
     "output_type": "error",
     "traceback": [
      "\u001b[0;31m---------------------------------------------------------------------------\u001b[0m",
      "\u001b[0;31mKeyError\u001b[0m                                  Traceback (most recent call last)",
      "\u001b[0;32m/usr/local/Anaconda3-2020.07-Linux-x86_64/lib/python3.8/site-packages/xarray/backends/file_manager.py\u001b[0m in \u001b[0;36m_acquire_with_cache_info\u001b[0;34m(self, needs_lock)\u001b[0m\n\u001b[1;32m    198\u001b[0m             \u001b[0;32mtry\u001b[0m\u001b[0;34m:\u001b[0m\u001b[0;34m\u001b[0m\u001b[0;34m\u001b[0m\u001b[0m\n\u001b[0;32m--> 199\u001b[0;31m                 \u001b[0mfile\u001b[0m \u001b[0;34m=\u001b[0m \u001b[0mself\u001b[0m\u001b[0;34m.\u001b[0m\u001b[0m_cache\u001b[0m\u001b[0;34m[\u001b[0m\u001b[0mself\u001b[0m\u001b[0;34m.\u001b[0m\u001b[0m_key\u001b[0m\u001b[0;34m]\u001b[0m\u001b[0;34m\u001b[0m\u001b[0;34m\u001b[0m\u001b[0m\n\u001b[0m\u001b[1;32m    200\u001b[0m             \u001b[0;32mexcept\u001b[0m \u001b[0mKeyError\u001b[0m\u001b[0;34m:\u001b[0m\u001b[0;34m\u001b[0m\u001b[0;34m\u001b[0m\u001b[0m\n",
      "\u001b[0;32m/usr/local/Anaconda3-2020.07-Linux-x86_64/lib/python3.8/site-packages/xarray/backends/lru_cache.py\u001b[0m in \u001b[0;36m__getitem__\u001b[0;34m(self, key)\u001b[0m\n\u001b[1;32m     52\u001b[0m         \u001b[0;32mwith\u001b[0m \u001b[0mself\u001b[0m\u001b[0;34m.\u001b[0m\u001b[0m_lock\u001b[0m\u001b[0;34m:\u001b[0m\u001b[0;34m\u001b[0m\u001b[0;34m\u001b[0m\u001b[0m\n\u001b[0;32m---> 53\u001b[0;31m             \u001b[0mvalue\u001b[0m \u001b[0;34m=\u001b[0m \u001b[0mself\u001b[0m\u001b[0;34m.\u001b[0m\u001b[0m_cache\u001b[0m\u001b[0;34m[\u001b[0m\u001b[0mkey\u001b[0m\u001b[0;34m]\u001b[0m\u001b[0;34m\u001b[0m\u001b[0;34m\u001b[0m\u001b[0m\n\u001b[0m\u001b[1;32m     54\u001b[0m             \u001b[0mself\u001b[0m\u001b[0;34m.\u001b[0m\u001b[0m_cache\u001b[0m\u001b[0;34m.\u001b[0m\u001b[0mmove_to_end\u001b[0m\u001b[0;34m(\u001b[0m\u001b[0mkey\u001b[0m\u001b[0;34m)\u001b[0m\u001b[0;34m\u001b[0m\u001b[0;34m\u001b[0m\u001b[0m\n",
      "\u001b[0;31mKeyError\u001b[0m: [<class 'netCDF4._netCDF4.Dataset'>, ('http://esgf-data1.llnl.gov/thredds/dodsC/css03_data/CMIP6/CMIP/NCC/NorESM2-MM/abrupt-4xCO2/r1i1p1f1/Amon/rsut/gn/v20191108/rsut_Amon_NorESM2-MM_abrupt-4xCO2_r1i1p1f1_gn_009101-010012.nc',), 'r', (('clobber', True), ('diskless', False), ('format', 'NETCDF4'), ('persist', False))]",
      "\nDuring handling of the above exception, another exception occurred:\n",
      "\u001b[0;31mOSError\u001b[0m                                   Traceback (most recent call last)",
      "\u001b[0;32m<ipython-input-28-706eb55721ad>\u001b[0m in \u001b[0;36m<module>\u001b[0;34m\u001b[0m\n\u001b[1;32m      7\u001b[0m     \u001b[0mprint\u001b[0m\u001b[0;34m(\u001b[0m\u001b[0mresult3\u001b[0m\u001b[0;34m[\u001b[0m\u001b[0malev\u001b[0m\u001b[0;34m[\u001b[0m\u001b[0md\u001b[0m\u001b[0;34m]\u001b[0m\u001b[0;34m:\u001b[0m\u001b[0malev2\u001b[0m\u001b[0;34m[\u001b[0m\u001b[0md\u001b[0m\u001b[0;34m]\u001b[0m\u001b[0;34m]\u001b[0m\u001b[0;34m)\u001b[0m\u001b[0;34m\u001b[0m\u001b[0;34m\u001b[0m\u001b[0m\n\u001b[1;32m      8\u001b[0m     \u001b[0mfiles_to_open\u001b[0m \u001b[0;34m=\u001b[0m \u001b[0mresult3\u001b[0m\u001b[0;34m[\u001b[0m\u001b[0malev\u001b[0m\u001b[0;34m[\u001b[0m\u001b[0md\u001b[0m\u001b[0;34m]\u001b[0m\u001b[0;34m:\u001b[0m\u001b[0malev2\u001b[0m\u001b[0;34m[\u001b[0m\u001b[0md\u001b[0m\u001b[0;34m]\u001b[0m\u001b[0;34m]\u001b[0m\u001b[0;34m\u001b[0m\u001b[0;34m\u001b[0m\u001b[0m\n\u001b[0;32m----> 9\u001b[0;31m     \u001b[0mds\u001b[0m \u001b[0;34m=\u001b[0m \u001b[0mxr\u001b[0m\u001b[0;34m.\u001b[0m\u001b[0mopen_mfdataset\u001b[0m\u001b[0;34m(\u001b[0m\u001b[0mfiles_to_open\u001b[0m\u001b[0;34m)\u001b[0m\u001b[0;34m\u001b[0m\u001b[0;34m\u001b[0m\u001b[0m\n\u001b[0m",
      "\u001b[0;32m/usr/local/Anaconda3-2020.07-Linux-x86_64/lib/python3.8/site-packages/xarray/backends/api.py\u001b[0m in \u001b[0;36mopen_mfdataset\u001b[0;34m(paths, chunks, concat_dim, compat, preprocess, engine, lock, data_vars, coords, combine, autoclose, parallel, join, attrs_file, **kwargs)\u001b[0m\n\u001b[1;32m    916\u001b[0m         \u001b[0mgetattr_\u001b[0m \u001b[0;34m=\u001b[0m \u001b[0mgetattr\u001b[0m\u001b[0;34m\u001b[0m\u001b[0;34m\u001b[0m\u001b[0m\n\u001b[1;32m    917\u001b[0m \u001b[0;34m\u001b[0m\u001b[0m\n\u001b[0;32m--> 918\u001b[0;31m     \u001b[0mdatasets\u001b[0m \u001b[0;34m=\u001b[0m \u001b[0;34m[\u001b[0m\u001b[0mopen_\u001b[0m\u001b[0;34m(\u001b[0m\u001b[0mp\u001b[0m\u001b[0;34m,\u001b[0m \u001b[0;34m**\u001b[0m\u001b[0mopen_kwargs\u001b[0m\u001b[0;34m)\u001b[0m \u001b[0;32mfor\u001b[0m \u001b[0mp\u001b[0m \u001b[0;32min\u001b[0m \u001b[0mpaths\u001b[0m\u001b[0;34m]\u001b[0m\u001b[0;34m\u001b[0m\u001b[0;34m\u001b[0m\u001b[0m\n\u001b[0m\u001b[1;32m    919\u001b[0m     \u001b[0mfile_objs\u001b[0m \u001b[0;34m=\u001b[0m \u001b[0;34m[\u001b[0m\u001b[0mgetattr_\u001b[0m\u001b[0;34m(\u001b[0m\u001b[0mds\u001b[0m\u001b[0;34m,\u001b[0m \u001b[0;34m\"_file_obj\"\u001b[0m\u001b[0;34m)\u001b[0m \u001b[0;32mfor\u001b[0m \u001b[0mds\u001b[0m \u001b[0;32min\u001b[0m \u001b[0mdatasets\u001b[0m\u001b[0;34m]\u001b[0m\u001b[0;34m\u001b[0m\u001b[0;34m\u001b[0m\u001b[0m\n\u001b[1;32m    920\u001b[0m     \u001b[0;32mif\u001b[0m \u001b[0mpreprocess\u001b[0m \u001b[0;32mis\u001b[0m \u001b[0;32mnot\u001b[0m \u001b[0;32mNone\u001b[0m\u001b[0;34m:\u001b[0m\u001b[0;34m\u001b[0m\u001b[0;34m\u001b[0m\u001b[0m\n",
      "\u001b[0;32m/usr/local/Anaconda3-2020.07-Linux-x86_64/lib/python3.8/site-packages/xarray/backends/api.py\u001b[0m in \u001b[0;36m<listcomp>\u001b[0;34m(.0)\u001b[0m\n\u001b[1;32m    916\u001b[0m         \u001b[0mgetattr_\u001b[0m \u001b[0;34m=\u001b[0m \u001b[0mgetattr\u001b[0m\u001b[0;34m\u001b[0m\u001b[0;34m\u001b[0m\u001b[0m\n\u001b[1;32m    917\u001b[0m \u001b[0;34m\u001b[0m\u001b[0m\n\u001b[0;32m--> 918\u001b[0;31m     \u001b[0mdatasets\u001b[0m \u001b[0;34m=\u001b[0m \u001b[0;34m[\u001b[0m\u001b[0mopen_\u001b[0m\u001b[0;34m(\u001b[0m\u001b[0mp\u001b[0m\u001b[0;34m,\u001b[0m \u001b[0;34m**\u001b[0m\u001b[0mopen_kwargs\u001b[0m\u001b[0;34m)\u001b[0m \u001b[0;32mfor\u001b[0m \u001b[0mp\u001b[0m \u001b[0;32min\u001b[0m \u001b[0mpaths\u001b[0m\u001b[0;34m]\u001b[0m\u001b[0;34m\u001b[0m\u001b[0;34m\u001b[0m\u001b[0m\n\u001b[0m\u001b[1;32m    919\u001b[0m     \u001b[0mfile_objs\u001b[0m \u001b[0;34m=\u001b[0m \u001b[0;34m[\u001b[0m\u001b[0mgetattr_\u001b[0m\u001b[0;34m(\u001b[0m\u001b[0mds\u001b[0m\u001b[0;34m,\u001b[0m \u001b[0;34m\"_file_obj\"\u001b[0m\u001b[0;34m)\u001b[0m \u001b[0;32mfor\u001b[0m \u001b[0mds\u001b[0m \u001b[0;32min\u001b[0m \u001b[0mdatasets\u001b[0m\u001b[0;34m]\u001b[0m\u001b[0;34m\u001b[0m\u001b[0;34m\u001b[0m\u001b[0m\n\u001b[1;32m    920\u001b[0m     \u001b[0;32mif\u001b[0m \u001b[0mpreprocess\u001b[0m \u001b[0;32mis\u001b[0m \u001b[0;32mnot\u001b[0m \u001b[0;32mNone\u001b[0m\u001b[0;34m:\u001b[0m\u001b[0;34m\u001b[0m\u001b[0;34m\u001b[0m\u001b[0m\n",
      "\u001b[0;32m/usr/local/Anaconda3-2020.07-Linux-x86_64/lib/python3.8/site-packages/xarray/backends/api.py\u001b[0m in \u001b[0;36mopen_dataset\u001b[0;34m(filename_or_obj, group, decode_cf, mask_and_scale, decode_times, autoclose, concat_characters, decode_coords, engine, chunks, lock, cache, drop_variables, backend_kwargs, use_cftime, decode_timedelta)\u001b[0m\n\u001b[1;32m    506\u001b[0m             \u001b[0mengine\u001b[0m \u001b[0;34m=\u001b[0m \u001b[0m_get_default_engine\u001b[0m\u001b[0;34m(\u001b[0m\u001b[0mfilename_or_obj\u001b[0m\u001b[0;34m,\u001b[0m \u001b[0mallow_remote\u001b[0m\u001b[0;34m=\u001b[0m\u001b[0;32mTrue\u001b[0m\u001b[0;34m)\u001b[0m\u001b[0;34m\u001b[0m\u001b[0;34m\u001b[0m\u001b[0m\n\u001b[1;32m    507\u001b[0m         \u001b[0;32mif\u001b[0m \u001b[0mengine\u001b[0m \u001b[0;34m==\u001b[0m \u001b[0;34m\"netcdf4\"\u001b[0m\u001b[0;34m:\u001b[0m\u001b[0;34m\u001b[0m\u001b[0;34m\u001b[0m\u001b[0m\n\u001b[0;32m--> 508\u001b[0;31m             store = backends.NetCDF4DataStore.open(\n\u001b[0m\u001b[1;32m    509\u001b[0m                 \u001b[0mfilename_or_obj\u001b[0m\u001b[0;34m,\u001b[0m \u001b[0mgroup\u001b[0m\u001b[0;34m=\u001b[0m\u001b[0mgroup\u001b[0m\u001b[0;34m,\u001b[0m \u001b[0mlock\u001b[0m\u001b[0;34m=\u001b[0m\u001b[0mlock\u001b[0m\u001b[0;34m,\u001b[0m \u001b[0;34m**\u001b[0m\u001b[0mbackend_kwargs\u001b[0m\u001b[0;34m\u001b[0m\u001b[0;34m\u001b[0m\u001b[0m\n\u001b[1;32m    510\u001b[0m             )\n",
      "\u001b[0;32m/usr/local/Anaconda3-2020.07-Linux-x86_64/lib/python3.8/site-packages/xarray/backends/netCDF4_.py\u001b[0m in \u001b[0;36mopen\u001b[0;34m(cls, filename, mode, format, group, clobber, diskless, persist, lock, lock_maker, autoclose)\u001b[0m\n\u001b[1;32m    356\u001b[0m             \u001b[0mnetCDF4\u001b[0m\u001b[0;34m.\u001b[0m\u001b[0mDataset\u001b[0m\u001b[0;34m,\u001b[0m \u001b[0mfilename\u001b[0m\u001b[0;34m,\u001b[0m \u001b[0mmode\u001b[0m\u001b[0;34m=\u001b[0m\u001b[0mmode\u001b[0m\u001b[0;34m,\u001b[0m \u001b[0mkwargs\u001b[0m\u001b[0;34m=\u001b[0m\u001b[0mkwargs\u001b[0m\u001b[0;34m\u001b[0m\u001b[0;34m\u001b[0m\u001b[0m\n\u001b[1;32m    357\u001b[0m         )\n\u001b[0;32m--> 358\u001b[0;31m         \u001b[0;32mreturn\u001b[0m \u001b[0mcls\u001b[0m\u001b[0;34m(\u001b[0m\u001b[0mmanager\u001b[0m\u001b[0;34m,\u001b[0m \u001b[0mgroup\u001b[0m\u001b[0;34m=\u001b[0m\u001b[0mgroup\u001b[0m\u001b[0;34m,\u001b[0m \u001b[0mmode\u001b[0m\u001b[0;34m=\u001b[0m\u001b[0mmode\u001b[0m\u001b[0;34m,\u001b[0m \u001b[0mlock\u001b[0m\u001b[0;34m=\u001b[0m\u001b[0mlock\u001b[0m\u001b[0;34m,\u001b[0m \u001b[0mautoclose\u001b[0m\u001b[0;34m=\u001b[0m\u001b[0mautoclose\u001b[0m\u001b[0;34m)\u001b[0m\u001b[0;34m\u001b[0m\u001b[0;34m\u001b[0m\u001b[0m\n\u001b[0m\u001b[1;32m    359\u001b[0m \u001b[0;34m\u001b[0m\u001b[0m\n\u001b[1;32m    360\u001b[0m     \u001b[0;32mdef\u001b[0m \u001b[0m_acquire\u001b[0m\u001b[0;34m(\u001b[0m\u001b[0mself\u001b[0m\u001b[0;34m,\u001b[0m \u001b[0mneeds_lock\u001b[0m\u001b[0;34m=\u001b[0m\u001b[0;32mTrue\u001b[0m\u001b[0;34m)\u001b[0m\u001b[0;34m:\u001b[0m\u001b[0;34m\u001b[0m\u001b[0;34m\u001b[0m\u001b[0m\n",
      "\u001b[0;32m/usr/local/Anaconda3-2020.07-Linux-x86_64/lib/python3.8/site-packages/xarray/backends/netCDF4_.py\u001b[0m in \u001b[0;36m__init__\u001b[0;34m(self, manager, group, mode, lock, autoclose)\u001b[0m\n\u001b[1;32m    312\u001b[0m         \u001b[0mself\u001b[0m\u001b[0;34m.\u001b[0m\u001b[0m_group\u001b[0m \u001b[0;34m=\u001b[0m \u001b[0mgroup\u001b[0m\u001b[0;34m\u001b[0m\u001b[0;34m\u001b[0m\u001b[0m\n\u001b[1;32m    313\u001b[0m         \u001b[0mself\u001b[0m\u001b[0;34m.\u001b[0m\u001b[0m_mode\u001b[0m \u001b[0;34m=\u001b[0m \u001b[0mmode\u001b[0m\u001b[0;34m\u001b[0m\u001b[0;34m\u001b[0m\u001b[0m\n\u001b[0;32m--> 314\u001b[0;31m         \u001b[0mself\u001b[0m\u001b[0;34m.\u001b[0m\u001b[0mformat\u001b[0m \u001b[0;34m=\u001b[0m \u001b[0mself\u001b[0m\u001b[0;34m.\u001b[0m\u001b[0mds\u001b[0m\u001b[0;34m.\u001b[0m\u001b[0mdata_model\u001b[0m\u001b[0;34m\u001b[0m\u001b[0;34m\u001b[0m\u001b[0m\n\u001b[0m\u001b[1;32m    315\u001b[0m         \u001b[0mself\u001b[0m\u001b[0;34m.\u001b[0m\u001b[0m_filename\u001b[0m \u001b[0;34m=\u001b[0m \u001b[0mself\u001b[0m\u001b[0;34m.\u001b[0m\u001b[0mds\u001b[0m\u001b[0;34m.\u001b[0m\u001b[0mfilepath\u001b[0m\u001b[0;34m(\u001b[0m\u001b[0;34m)\u001b[0m\u001b[0;34m\u001b[0m\u001b[0;34m\u001b[0m\u001b[0m\n\u001b[1;32m    316\u001b[0m         \u001b[0mself\u001b[0m\u001b[0;34m.\u001b[0m\u001b[0mis_remote\u001b[0m \u001b[0;34m=\u001b[0m \u001b[0mis_remote_uri\u001b[0m\u001b[0;34m(\u001b[0m\u001b[0mself\u001b[0m\u001b[0;34m.\u001b[0m\u001b[0m_filename\u001b[0m\u001b[0;34m)\u001b[0m\u001b[0;34m\u001b[0m\u001b[0;34m\u001b[0m\u001b[0m\n",
      "\u001b[0;32m/usr/local/Anaconda3-2020.07-Linux-x86_64/lib/python3.8/site-packages/xarray/backends/netCDF4_.py\u001b[0m in \u001b[0;36mds\u001b[0;34m(self)\u001b[0m\n\u001b[1;32m    365\u001b[0m     \u001b[0;34m@\u001b[0m\u001b[0mproperty\u001b[0m\u001b[0;34m\u001b[0m\u001b[0;34m\u001b[0m\u001b[0m\n\u001b[1;32m    366\u001b[0m     \u001b[0;32mdef\u001b[0m \u001b[0mds\u001b[0m\u001b[0;34m(\u001b[0m\u001b[0mself\u001b[0m\u001b[0;34m)\u001b[0m\u001b[0;34m:\u001b[0m\u001b[0;34m\u001b[0m\u001b[0;34m\u001b[0m\u001b[0m\n\u001b[0;32m--> 367\u001b[0;31m         \u001b[0;32mreturn\u001b[0m \u001b[0mself\u001b[0m\u001b[0;34m.\u001b[0m\u001b[0m_acquire\u001b[0m\u001b[0;34m(\u001b[0m\u001b[0;34m)\u001b[0m\u001b[0;34m\u001b[0m\u001b[0;34m\u001b[0m\u001b[0m\n\u001b[0m\u001b[1;32m    368\u001b[0m \u001b[0;34m\u001b[0m\u001b[0m\n\u001b[1;32m    369\u001b[0m     \u001b[0;32mdef\u001b[0m \u001b[0mopen_store_variable\u001b[0m\u001b[0;34m(\u001b[0m\u001b[0mself\u001b[0m\u001b[0;34m,\u001b[0m \u001b[0mname\u001b[0m\u001b[0;34m,\u001b[0m \u001b[0mvar\u001b[0m\u001b[0;34m)\u001b[0m\u001b[0;34m:\u001b[0m\u001b[0;34m\u001b[0m\u001b[0;34m\u001b[0m\u001b[0m\n",
      "\u001b[0;32m/usr/local/Anaconda3-2020.07-Linux-x86_64/lib/python3.8/site-packages/xarray/backends/netCDF4_.py\u001b[0m in \u001b[0;36m_acquire\u001b[0;34m(self, needs_lock)\u001b[0m\n\u001b[1;32m    359\u001b[0m \u001b[0;34m\u001b[0m\u001b[0m\n\u001b[1;32m    360\u001b[0m     \u001b[0;32mdef\u001b[0m \u001b[0m_acquire\u001b[0m\u001b[0;34m(\u001b[0m\u001b[0mself\u001b[0m\u001b[0;34m,\u001b[0m \u001b[0mneeds_lock\u001b[0m\u001b[0;34m=\u001b[0m\u001b[0;32mTrue\u001b[0m\u001b[0;34m)\u001b[0m\u001b[0;34m:\u001b[0m\u001b[0;34m\u001b[0m\u001b[0;34m\u001b[0m\u001b[0m\n\u001b[0;32m--> 361\u001b[0;31m         \u001b[0;32mwith\u001b[0m \u001b[0mself\u001b[0m\u001b[0;34m.\u001b[0m\u001b[0m_manager\u001b[0m\u001b[0;34m.\u001b[0m\u001b[0macquire_context\u001b[0m\u001b[0;34m(\u001b[0m\u001b[0mneeds_lock\u001b[0m\u001b[0;34m)\u001b[0m \u001b[0;32mas\u001b[0m \u001b[0mroot\u001b[0m\u001b[0;34m:\u001b[0m\u001b[0;34m\u001b[0m\u001b[0;34m\u001b[0m\u001b[0m\n\u001b[0m\u001b[1;32m    362\u001b[0m             \u001b[0mds\u001b[0m \u001b[0;34m=\u001b[0m \u001b[0m_nc4_require_group\u001b[0m\u001b[0;34m(\u001b[0m\u001b[0mroot\u001b[0m\u001b[0;34m,\u001b[0m \u001b[0mself\u001b[0m\u001b[0;34m.\u001b[0m\u001b[0m_group\u001b[0m\u001b[0;34m,\u001b[0m \u001b[0mself\u001b[0m\u001b[0;34m.\u001b[0m\u001b[0m_mode\u001b[0m\u001b[0;34m)\u001b[0m\u001b[0;34m\u001b[0m\u001b[0;34m\u001b[0m\u001b[0m\n\u001b[1;32m    363\u001b[0m         \u001b[0;32mreturn\u001b[0m \u001b[0mds\u001b[0m\u001b[0;34m\u001b[0m\u001b[0;34m\u001b[0m\u001b[0m\n",
      "\u001b[0;32m/usr/local/Anaconda3-2020.07-Linux-x86_64/lib/python3.8/contextlib.py\u001b[0m in \u001b[0;36m__enter__\u001b[0;34m(self)\u001b[0m\n\u001b[1;32m    111\u001b[0m         \u001b[0;32mdel\u001b[0m \u001b[0mself\u001b[0m\u001b[0;34m.\u001b[0m\u001b[0margs\u001b[0m\u001b[0;34m,\u001b[0m \u001b[0mself\u001b[0m\u001b[0;34m.\u001b[0m\u001b[0mkwds\u001b[0m\u001b[0;34m,\u001b[0m \u001b[0mself\u001b[0m\u001b[0;34m.\u001b[0m\u001b[0mfunc\u001b[0m\u001b[0;34m\u001b[0m\u001b[0;34m\u001b[0m\u001b[0m\n\u001b[1;32m    112\u001b[0m         \u001b[0;32mtry\u001b[0m\u001b[0;34m:\u001b[0m\u001b[0;34m\u001b[0m\u001b[0;34m\u001b[0m\u001b[0m\n\u001b[0;32m--> 113\u001b[0;31m             \u001b[0;32mreturn\u001b[0m \u001b[0mnext\u001b[0m\u001b[0;34m(\u001b[0m\u001b[0mself\u001b[0m\u001b[0;34m.\u001b[0m\u001b[0mgen\u001b[0m\u001b[0;34m)\u001b[0m\u001b[0;34m\u001b[0m\u001b[0;34m\u001b[0m\u001b[0m\n\u001b[0m\u001b[1;32m    114\u001b[0m         \u001b[0;32mexcept\u001b[0m \u001b[0mStopIteration\u001b[0m\u001b[0;34m:\u001b[0m\u001b[0;34m\u001b[0m\u001b[0;34m\u001b[0m\u001b[0m\n\u001b[1;32m    115\u001b[0m             \u001b[0;32mraise\u001b[0m \u001b[0mRuntimeError\u001b[0m\u001b[0;34m(\u001b[0m\u001b[0;34m\"generator didn't yield\"\u001b[0m\u001b[0;34m)\u001b[0m \u001b[0;32mfrom\u001b[0m \u001b[0;32mNone\u001b[0m\u001b[0;34m\u001b[0m\u001b[0;34m\u001b[0m\u001b[0m\n",
      "\u001b[0;32m/usr/local/Anaconda3-2020.07-Linux-x86_64/lib/python3.8/site-packages/xarray/backends/file_manager.py\u001b[0m in \u001b[0;36macquire_context\u001b[0;34m(self, needs_lock)\u001b[0m\n\u001b[1;32m    185\u001b[0m     \u001b[0;32mdef\u001b[0m \u001b[0macquire_context\u001b[0m\u001b[0;34m(\u001b[0m\u001b[0mself\u001b[0m\u001b[0;34m,\u001b[0m \u001b[0mneeds_lock\u001b[0m\u001b[0;34m=\u001b[0m\u001b[0;32mTrue\u001b[0m\u001b[0;34m)\u001b[0m\u001b[0;34m:\u001b[0m\u001b[0;34m\u001b[0m\u001b[0;34m\u001b[0m\u001b[0m\n\u001b[1;32m    186\u001b[0m         \u001b[0;34m\"\"\"Context manager for acquiring a file.\"\"\"\u001b[0m\u001b[0;34m\u001b[0m\u001b[0;34m\u001b[0m\u001b[0m\n\u001b[0;32m--> 187\u001b[0;31m         \u001b[0mfile\u001b[0m\u001b[0;34m,\u001b[0m \u001b[0mcached\u001b[0m \u001b[0;34m=\u001b[0m \u001b[0mself\u001b[0m\u001b[0;34m.\u001b[0m\u001b[0m_acquire_with_cache_info\u001b[0m\u001b[0;34m(\u001b[0m\u001b[0mneeds_lock\u001b[0m\u001b[0;34m)\u001b[0m\u001b[0;34m\u001b[0m\u001b[0;34m\u001b[0m\u001b[0m\n\u001b[0m\u001b[1;32m    188\u001b[0m         \u001b[0;32mtry\u001b[0m\u001b[0;34m:\u001b[0m\u001b[0;34m\u001b[0m\u001b[0;34m\u001b[0m\u001b[0m\n\u001b[1;32m    189\u001b[0m             \u001b[0;32myield\u001b[0m \u001b[0mfile\u001b[0m\u001b[0;34m\u001b[0m\u001b[0;34m\u001b[0m\u001b[0m\n",
      "\u001b[0;32m/usr/local/Anaconda3-2020.07-Linux-x86_64/lib/python3.8/site-packages/xarray/backends/file_manager.py\u001b[0m in \u001b[0;36m_acquire_with_cache_info\u001b[0;34m(self, needs_lock)\u001b[0m\n\u001b[1;32m    203\u001b[0m                     \u001b[0mkwargs\u001b[0m \u001b[0;34m=\u001b[0m \u001b[0mkwargs\u001b[0m\u001b[0;34m.\u001b[0m\u001b[0mcopy\u001b[0m\u001b[0;34m(\u001b[0m\u001b[0;34m)\u001b[0m\u001b[0;34m\u001b[0m\u001b[0;34m\u001b[0m\u001b[0m\n\u001b[1;32m    204\u001b[0m                     \u001b[0mkwargs\u001b[0m\u001b[0;34m[\u001b[0m\u001b[0;34m\"mode\"\u001b[0m\u001b[0;34m]\u001b[0m \u001b[0;34m=\u001b[0m \u001b[0mself\u001b[0m\u001b[0;34m.\u001b[0m\u001b[0m_mode\u001b[0m\u001b[0;34m\u001b[0m\u001b[0;34m\u001b[0m\u001b[0m\n\u001b[0;32m--> 205\u001b[0;31m                 \u001b[0mfile\u001b[0m \u001b[0;34m=\u001b[0m \u001b[0mself\u001b[0m\u001b[0;34m.\u001b[0m\u001b[0m_opener\u001b[0m\u001b[0;34m(\u001b[0m\u001b[0;34m*\u001b[0m\u001b[0mself\u001b[0m\u001b[0;34m.\u001b[0m\u001b[0m_args\u001b[0m\u001b[0;34m,\u001b[0m \u001b[0;34m**\u001b[0m\u001b[0mkwargs\u001b[0m\u001b[0;34m)\u001b[0m\u001b[0;34m\u001b[0m\u001b[0;34m\u001b[0m\u001b[0m\n\u001b[0m\u001b[1;32m    206\u001b[0m                 \u001b[0;32mif\u001b[0m \u001b[0mself\u001b[0m\u001b[0;34m.\u001b[0m\u001b[0m_mode\u001b[0m \u001b[0;34m==\u001b[0m \u001b[0;34m\"w\"\u001b[0m\u001b[0;34m:\u001b[0m\u001b[0;34m\u001b[0m\u001b[0;34m\u001b[0m\u001b[0m\n\u001b[1;32m    207\u001b[0m                     \u001b[0;31m# ensure file doesn't get overriden when opened again\u001b[0m\u001b[0;34m\u001b[0m\u001b[0;34m\u001b[0m\u001b[0;34m\u001b[0m\u001b[0m\n",
      "\u001b[0;32mnetCDF4/_netCDF4.pyx\u001b[0m in \u001b[0;36mnetCDF4._netCDF4.Dataset.__init__\u001b[0;34m()\u001b[0m\n",
      "\u001b[0;32mnetCDF4/_netCDF4.pyx\u001b[0m in \u001b[0;36mnetCDF4._netCDF4._ensure_nc_success\u001b[0;34m()\u001b[0m\n",
      "\u001b[0;31mOSError\u001b[0m: [Errno -68] NetCDF: I/O failure: b'http://esgf-data1.llnl.gov/thredds/dodsC/css03_data/CMIP6/CMIP/NCC/NorESM2-MM/abrupt-4xCO2/r1i1p1f1/Amon/rsut/gn/v20191108/rsut_Amon_NorESM2-MM_abrupt-4xCO2_r1i1p1f1_gn_009101-010012.nc'"
     ]
    }
   ],
   "source": [
    "#For checking availability and format of data\n",
    "d = 21\n",
    "ids = ['tas', 'rlut', 'rsut', 'rlutcs', 'rsutcs']\n",
    "for i in range(5):\n",
    "    result3 = esgf_search(activity_id='CMIP', table_id='Amon', source_id=model[d], \n",
    "                          variable_id=ids[i], experiment_id='abrupt-4xCO2')\n",
    "    print(result3[alev[d]:alev2[d]])\n",
    "    files_to_open = result3[alev[d]:alev2[d]]\n",
    "    ds = xr.open_mfdataset(files_to_open)\n"
   ]
  },
  {
   "cell_type": "code",
   "execution_count": 66,
   "metadata": {},
   "outputs": [
    {
     "name": "stdout",
     "output_type": "stream",
     "text": [
      "Doing:  FGOALS-f3-L\n",
      "https://esgf-node.llnl.gov/esg-search/search/?activity_id=CMIP&table_id=Amon&source_id=FGOALS-f3-L&variable_id=tas&experiment_id=abrupt-4xCO2&project=CMIP6&type=File&distrib=false&format=application%2Fsolr%2Bjson&offset=0\n",
      "https://esgf-node.llnl.gov/esg-search/search/?activity_id=CMIP&table_id=Amon&source_id=FGOALS-f3-L&variable_id=rlut&experiment_id=abrupt-4xCO2&project=CMIP6&type=File&distrib=false&format=application%2Fsolr%2Bjson&offset=0\n",
      "https://esgf-node.llnl.gov/esg-search/search/?activity_id=CMIP&table_id=Amon&source_id=FGOALS-f3-L&variable_id=rsut&experiment_id=abrupt-4xCO2&project=CMIP6&type=File&distrib=false&format=application%2Fsolr%2Bjson&offset=0\n",
      "https://esgf-node.llnl.gov/esg-search/search/?activity_id=CMIP&table_id=Amon&source_id=FGOALS-f3-L&variable_id=rlutcs&experiment_id=abrupt-4xCO2&project=CMIP6&type=File&distrib=false&format=application%2Fsolr%2Bjson&offset=0\n",
      "https://esgf-node.llnl.gov/esg-search/search/?activity_id=CMIP&table_id=Amon&source_id=FGOALS-f3-L&variable_id=rsutcs&experiment_id=abrupt-4xCO2&project=CMIP6&type=File&distrib=false&format=application%2Fsolr%2Bjson&offset=0\n"
     ]
    }
   ],
   "source": [
    "#Download data\n",
    "for d in range( m ):\n",
    "    print(\"Doing: \", model[d])\n",
    "\n",
    "    result1 = esgf_search(activity_id='CMIP', table_id='Amon', source_id=model[d], \n",
    "                              variable_id='tas', experiment_id='abrupt-4xCO2')\n",
    "    result2 = esgf_search(activity_id='CMIP', table_id='Amon', source_id=model[d], \n",
    "                              variable_id='rlut', experiment_id='abrupt-4xCO2')\n",
    "    result3 = esgf_search(activity_id='CMIP', table_id='Amon', source_id=model[d], \n",
    "                              variable_id='rsut', experiment_id='abrupt-4xCO2')\n",
    "    result4 = esgf_search(activity_id='CMIP', table_id='Amon', source_id=model[d], \n",
    "                              variable_id='rlutcs', experiment_id='abrupt-4xCO2')\n",
    "    result5 = esgf_search(activity_id='CMIP', table_id='Amon', source_id=model[d], \n",
    "                              variable_id='rsutcs', experiment_id='abrupt-4xCO2')\n",
    "        \n",
    "    files_to_open = result1[alev[d]:alev2[d]]\n",
    "    files_to_open2 = result2[alev3[d]:alev4[d]]\n",
    "    files_to_open3 = result3[alev5[d]:alev6[d]]\n",
    "    files_to_open4 = result4[alev5[d]:alev6[d]]\n",
    "    files_to_open5 = result5[alev5[d]:alev6[d]]\n",
    "\n",
    "    ds = xr.open_mfdataset(files_to_open)\n",
    "    ds2 = xr.open_mfdataset(files_to_open2)\n",
    "    ds3 = xr.open_mfdataset(files_to_open3)\n",
    "    ds4 = xr.open_mfdataset(files_to_open4)\n",
    "    ds5 = xr.open_mfdataset(files_to_open5)\n",
    "\n",
    "    d1, d2, d3 = np.shape( ds.tas)\n",
    "\n",
    "    tas = ds.tas.mean(dim='lon')\n",
    "    rlut = ds2.rlut.mean(dim='lon')\n",
    "    rsut = ds3.rsut.mean(dim='lon')\n",
    "    rlutcs = ds4.rlutcs.mean(dim='lon')\n",
    "    rsutcs = ds5.rsutcs.mean(dim='lon')\n",
    "\n",
    "    for i in range( 5 ):\n",
    "        ztas = tas.sel(lat=slice(lim1[i], lim2[i]))\n",
    "        zrlut = rlut.sel(lat=slice(lim1[i], lim2[i]))\n",
    "        zrsut = rsut.sel(lat=slice(lim1[i], lim2[i]))\n",
    "        zrlutcs = rlutcs.sel(lat=slice(lim1[i], lim2[i]))\n",
    "        zrsutcs = rsutcs.sel(lat=slice(lim1[i], lim2[i]))\n",
    "\n",
    "        sdat( ztas, \"data/\" + model[d] + \"_abrupt-4xCO2_tas_\" + str(lim1[i]) + \"_\" + str(lim2[i]) + \".dat\")\n",
    "        sdat( zrlut, \"data/\" + model[d] + \"_abrupt-4xCO2_rlut_\" + str(lim1[i]) + \"_\" + str(lim2[i]) + \".dat\")\n",
    "        sdat( zrsut, \"data/\" + model[d] + \"_abrupt-4xCO2_rsut_\" + str(lim1[i]) + \"_\" + str(lim2[i]) + \".dat\")\n",
    "        sdat( zrlutcs, \"data/\" + model[d] + \"_abrupt-4xCO2_rlutcs_\" + str(lim1[i]) + \"_\" + str(lim2[i]) + \".dat\")\n",
    "        sdat( zrsutcs, \"data/\" + model[d] + \"_abrupt-4xCO2_rsutcs_\" + str(lim1[i]) + \"_\" + str(lim2[i]) + \".dat\")\n"
   ]
  },
  {
   "cell_type": "code",
   "execution_count": null,
   "metadata": {},
   "outputs": [],
   "source": []
  },
  {
   "cell_type": "code",
   "execution_count": null,
   "metadata": {},
   "outputs": [],
   "source": []
  },
  {
   "cell_type": "code",
   "execution_count": null,
   "metadata": {},
   "outputs": [],
   "source": []
  }
 ],
 "metadata": {
  "kernelspec": {
   "display_name": "Python 3",
   "language": "python",
   "name": "python3"
  },
  "language_info": {
   "codemirror_mode": {
    "name": "ipython",
    "version": 3
   },
   "file_extension": ".py",
   "mimetype": "text/x-python",
   "name": "python",
   "nbconvert_exporter": "python",
   "pygments_lexer": "ipython3",
   "version": "3.8.5"
  }
 },
 "nbformat": 4,
 "nbformat_minor": 2
}
